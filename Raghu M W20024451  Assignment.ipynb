{
 "cells": [
  {
   "cell_type": "markdown",
   "metadata": {},
   "source": [
    "<h4 style=\"text-align: right\"> Submission by : Raghu Murugankutty  &nbsp;&nbsp;&nbsp;&nbsp;     Student ID: W20024451</h4>\n",
    "<h4 style=\"text-align: right\"> DataSet Used : 2018subsetCrimes, LSOA_Population</h4>\n",
    "\n",
    "<h2 style=\"text-align: center\">Crime pattern Analysis</h2>\n",
    "\n",
    "<h1>INTRODUCTION</h1>\n",
    "\n",
    "\n",
    "\n",
    "<h4>Problem statement</h4>\n",
    "<p> In the television documentary “Ross Kemp and the Armed Police” broadcast on 6th September 2018 by ITV, \n",
    "multiple claims were made regarding violent crime in the UK. </p>\n",
    "\n",
    "These claims were:\n",
    "1.\tViolent Crime is increasing\n",
    "2.\tThere are more firearms incidents per head in Birmingham than anywhere else in the UK\n",
    "3.\tCrimes involving firearms are closely associated with drugs offenses \n",
    "\n",
    "In this assignment I will be investigating the above claims are true or not.\n",
    "\n",
    "<p><h4>Approach taken to the problem</h4><p>\n",
    "By using a real, the publicly available data set used:<b>2018subsetCrimes.</b> In this investigation process, I am using data processing framework Apache Spark and various, <b>python distributions</b> Pyspark,visualization(seaborn,Pandas),statistics(matplotlib),machine(matplotlib) learning methods and various frameworks.\n",
    "\n",
    "<b>DataSet Used:</b> 2018subsetCrimes, LSOA_Population.\n",
    "\n",
    "<b>Tools used </b>\n",
    "Pyspark using RDD's,\n",
    "Pyspark using SparkSQL,\n",
    "Pyspark using Dataframes and Pandas.\n",
    "\n",
    "<b>Frameworks used </b>\n",
    "pandas,\n",
    "matplotlib,\n",
    "seaborn.\n",
    "\n",
    "<b>Programming languages used</b>\n",
    "python,\n",
    "SQL.\n",
    "\n",
    "<b>Environment</b>\n",
    "Jupyter notebook, Pyspark.\n",
    "\n",
    "<b>Styling:</b> Markdown.\n",
    "\n",
    "<p>In certain parts of the following analysis, the code has been intentionally split into separate individual cells (where it could've been in a single cell) to explain the process more clearly. \n",
    "Similarly in certain parts, the code was intentionally grouped together.Irrelevant data regarding the problem statements are removed intentionally from the data set.<p>\n",
    "\n",
    "<p>By the end of this analysis, we will have a conclusion about the above mentioned claims such as violent crimes increasing or not, firearm incident rates in Birmingham, the relationship between drugs and firearm crimes.<p>\n"
   ]
  },
  {
   "cell_type": "markdown",
   "metadata": {},
   "source": [
    "<h3>Importing Libraries and environment setting<h3>"
   ]
  },
  {
   "cell_type": "markdown",
   "metadata": {},
   "source": [
    "import pyspark\n",
    "from pyspark import SparkContext, SparkConf"
   ]
  },
  {
   "cell_type": "markdown",
   "metadata": {},
   "source": [
    "<p>Importing python libraries and dependencies <p> \n",
    "    <b>Constructs a connection to Spark execution environment</b>"
   ]
  },
  {
   "cell_type": "code",
   "execution_count": 2,
   "metadata": {},
   "outputs": [],
   "source": [
    "import numpy as np\n",
    "from pyspark.mllib.stat import Statistics"
   ]
  },
  {
   "cell_type": "markdown",
   "metadata": {},
   "source": [
    "Importing Statistics libraries from mllib for statistical calculations"
   ]
  },
  {
   "cell_type": "code",
   "execution_count": 3,
   "metadata": {},
   "outputs": [],
   "source": [
    "import matplotlib.pylab as plt\n",
    "from matplotlib import pyplot"
   ]
  },
  {
   "cell_type": "markdown",
   "metadata": {},
   "source": [
    "Importing plotting libraries for visualizations"
   ]
  },
  {
   "cell_type": "markdown",
   "metadata": {},
   "source": [
    "import pandas as pd\n",
    "from pyspark.sql import SQLContext\n",
    "<b>sqlCtx = SQLContext(sc)</b>"
   ]
  },
  {
   "cell_type": "markdown",
   "metadata": {},
   "source": [
    "<p> Here we're importing SQL Context which will enable us to make the table be available for the use of SQL Queries <p>\n",
    "<p> The above Code is to setup the code prerequesites for our analysis<p>\n",
    "<p> Here we also set Spark Context into <b>\"sc\"</b><p>"
   ]
  },
  {
   "cell_type": "code",
   "execution_count": 4,
   "metadata": {},
   "outputs": [
    {
     "data": {
      "text/html": [
       "\n",
       "        <div>\n",
       "            <p><b>SparkContext</b></p>\n",
       "\n",
       "            <p><a href=\"http://LAPTOP-CVSDTQ9D.Home:4041\">Spark UI</a></p>\n",
       "\n",
       "            <dl>\n",
       "              <dt>Version</dt>\n",
       "                <dd><code>v3.0.1</code></dd>\n",
       "              <dt>Master</dt>\n",
       "                <dd><code>local[*]</code></dd>\n",
       "              <dt>AppName</dt>\n",
       "                <dd><code>PySparkShell</code></dd>\n",
       "            </dl>\n",
       "        </div>\n",
       "        "
      ],
      "text/plain": [
       "<SparkContext master=local[*] appName=PySparkShell>"
      ]
     },
     "execution_count": 4,
     "metadata": {},
     "output_type": "execute_result"
    }
   ],
   "source": [
    "sc"
   ]
  },
  {
   "cell_type": "markdown",
   "metadata": {},
   "source": [
    "<h3>Data Loading<h3>"
   ]
  },
  {
   "cell_type": "markdown",
   "metadata": {},
   "source": [
    "<p>Loading file from local file system, using <b>sc.textfile()</b>, and checking wether file loaded properly by using <b>lines.take()</b><p>"
   ]
  },
  {
   "cell_type": "code",
   "execution_count": 6,
   "metadata": {
    "scrolled": false
   },
   "outputs": [
    {
     "data": {
      "text/plain": [
       "['Crime ID,Month,Reported by,Falls within,Longitude,Latitude,Location,LSOA code,LSOA name,Crime type,Last outcome category',\n",
       " ',2018-01,Avon and Somerset Constabulary,Avon and Somerset Constabulary,-2.497168,51.410029,On or near Fairacres Close,E01014403,Bath and North East Somerset ,Anti-social behaviour,',\n",
       " ',2018-01,Avon and Somerset Constabulary,Avon and Somerset Constabulary,-2.502878,51.406282,On or near Dunster Road,E01014404,Bath and North East Somerset ,Anti-social behaviour,',\n",
       " ',2018-01,Avon and Somerset Constabulary,Avon and Somerset Constabulary,-2.503825,51.407447,On or near Amberley Close,E01014404,Bath and North East Somerset ,Anti-social behaviour,',\n",
       " '14f6a950aa505dc67b86c5f68aa7cdb1d75b237915788ce1b0e8ab566320274e,2018-01,Avon and Somerset Constabulary,Avon and Somerset Constabulary,-2.488407,51.405534,On or near Hurn Lane,E01014397,Bath and North East Somerset ,Violence and sexual offences,Investigation complete; no suspect identified']"
      ]
     },
     "execution_count": 6,
     "metadata": {},
     "output_type": "execute_result"
    }
   ],
   "source": [
    "lines = sc.textFile(\"file:///Users/alanj/Desktop/2018SubsetCrime1.csv\")\n",
    "lines.take(5)"
   ]
  },
  {
   "cell_type": "markdown",
   "metadata": {},
   "source": [
    "<h3>Component Selection and Data Pipeline Implementation<h3>"
   ]
  },
  {
   "cell_type": "code",
   "execution_count": null,
   "metadata": {},
   "outputs": [],
   "source": [
    "def parseline2(line):\n",
    "    fields = line.split(',')\n",
    "    CrimeID = fields[0]\n",
    "    Month = fields[1]\n",
    "    ReportedBy = fields[2]\n",
    "    FallsWithin = fields[3]\n",
    "    Longitude = fields[4]\n",
    "    Latitude = fields[5]\n",
    "    Location = fields[6]\n",
    "    LSOAcode = fields[7]\n",
    "    LSOAname = fields[8]\n",
    "    CrimeType = fields[9]\n",
    "    LastOutcomeCategory = fields[10]\n",
    "    return (CrimeID,Month,ReportedBy,FallsWithin,Longitude,Latitude,Location,LSOAcode,LSOAname,CrimeType,LastOutcomeCategory)"
   ]
  },
  {
   "cell_type": "markdown",
   "metadata": {},
   "source": [
    "<p> In the above code we're defining a parseline2 function and passing the argument <b>line.</b> By using parseline function, conerting CSV data in to python objects.<p>\n",
    "<p><b>fields = line.split(',')</b> will split all the records into readable rows and columns<p>\n",
    "<p> the rest of the line will read each attribute in our dataset and assign them to a particular field <p>"
   ]
  },
  {
   "cell_type": "code",
   "execution_count": 8,
   "metadata": {},
   "outputs": [],
   "source": [
    "header = lines.first() \n",
    "justdata = lines.filter(lambda row: row != header)"
   ]
  },
  {
   "cell_type": "markdown",
   "metadata": {},
   "source": [
    "<p> Extracting header from the given data set by using the <b>filter()</b> function<p>"
   ]
  },
  {
   "cell_type": "code",
   "execution_count": 9,
   "metadata": {},
   "outputs": [],
   "source": [
    "rdd = justdata.map(parseline2)"
   ]
  },
  {
   "cell_type": "markdown",
   "metadata": {},
   "source": [
    "Passing an attribute parseline2 into <b>.map()</b> method to generate<b> RDD</b>\n",
    "Resilient Distributed Datasets(RDD) is a fundamental data structure of Spark."
   ]
  },
  {
   "cell_type": "code",
   "execution_count": 10,
   "metadata": {},
   "outputs": [
    {
     "name": "stdout",
     "output_type": "stream",
     "text": [
      "38258\n"
     ]
    }
   ],
   "source": [
    "print(rdd.count())"
   ]
  },
  {
   "cell_type": "markdown",
   "metadata": {},
   "source": [
    "Printing number of <b>tuples/observations</b> in the RDD"
   ]
  },
  {
   "cell_type": "code",
   "execution_count": 11,
   "metadata": {},
   "outputs": [],
   "source": [
    "df = sqlCtx.createDataFrame(rdd, ['CrimeID','Month','ReportedBy','FallsWithin','Longitude','Latitude','Location','LSOAcode','LSOAname',\n",
    "                                  'CrimeType','LastOutcomeCategory'])"
   ]
  },
  {
   "cell_type": "markdown",
   "metadata": {},
   "source": [
    "<p><b>Creating dataFrame</b> by passing <b>rdd</b> as an attribute in the <b>.createDataFrame()</b> method.<p>\n",
    "<b>Notes:</b> A data frame is a table or a two-dimensional array-like structure in which each column contains values of one variable and each row contains one set of values from each column."
   ]
  },
  {
   "cell_type": "markdown",
   "metadata": {},
   "source": [
    "Converting dataframe to <b>pandas dataframe</b> format by using <b>.toPandas()</b> function"
   ]
  },
  {
   "cell_type": "code",
   "execution_count": 12,
   "metadata": {},
   "outputs": [
    {
     "data": {
      "text/html": [
       "<div>\n",
       "<style scoped>\n",
       "    .dataframe tbody tr th:only-of-type {\n",
       "        vertical-align: middle;\n",
       "    }\n",
       "\n",
       "    .dataframe tbody tr th {\n",
       "        vertical-align: top;\n",
       "    }\n",
       "\n",
       "    .dataframe thead th {\n",
       "        text-align: right;\n",
       "    }\n",
       "</style>\n",
       "<table border=\"1\" class=\"dataframe\">\n",
       "  <thead>\n",
       "    <tr style=\"text-align: right;\">\n",
       "      <th></th>\n",
       "      <th>CrimeID</th>\n",
       "      <th>Month</th>\n",
       "      <th>ReportedBy</th>\n",
       "      <th>FallsWithin</th>\n",
       "      <th>Longitude</th>\n",
       "      <th>Latitude</th>\n",
       "      <th>Location</th>\n",
       "      <th>LSOAcode</th>\n",
       "      <th>LSOAname</th>\n",
       "      <th>CrimeType</th>\n",
       "      <th>LastOutcomeCategory</th>\n",
       "    </tr>\n",
       "  </thead>\n",
       "  <tbody>\n",
       "    <tr>\n",
       "      <th>0</th>\n",
       "      <td></td>\n",
       "      <td>2018-01</td>\n",
       "      <td>Avon and Somerset Constabulary</td>\n",
       "      <td>Avon and Somerset Constabulary</td>\n",
       "      <td>-2.497168</td>\n",
       "      <td>51.410029</td>\n",
       "      <td>On or near Fairacres Close</td>\n",
       "      <td>E01014403</td>\n",
       "      <td>Bath and North East Somerset</td>\n",
       "      <td>Anti-social behaviour</td>\n",
       "      <td></td>\n",
       "    </tr>\n",
       "    <tr>\n",
       "      <th>1</th>\n",
       "      <td></td>\n",
       "      <td>2018-01</td>\n",
       "      <td>Avon and Somerset Constabulary</td>\n",
       "      <td>Avon and Somerset Constabulary</td>\n",
       "      <td>-2.502878</td>\n",
       "      <td>51.406282</td>\n",
       "      <td>On or near Dunster Road</td>\n",
       "      <td>E01014404</td>\n",
       "      <td>Bath and North East Somerset</td>\n",
       "      <td>Anti-social behaviour</td>\n",
       "      <td></td>\n",
       "    </tr>\n",
       "    <tr>\n",
       "      <th>2</th>\n",
       "      <td></td>\n",
       "      <td>2018-01</td>\n",
       "      <td>Avon and Somerset Constabulary</td>\n",
       "      <td>Avon and Somerset Constabulary</td>\n",
       "      <td>-2.503825</td>\n",
       "      <td>51.407447</td>\n",
       "      <td>On or near Amberley Close</td>\n",
       "      <td>E01014404</td>\n",
       "      <td>Bath and North East Somerset</td>\n",
       "      <td>Anti-social behaviour</td>\n",
       "      <td></td>\n",
       "    </tr>\n",
       "    <tr>\n",
       "      <th>3</th>\n",
       "      <td>14f6a950aa505dc67b86c5f68aa7cdb1d75b237915788c...</td>\n",
       "      <td>2018-01</td>\n",
       "      <td>Avon and Somerset Constabulary</td>\n",
       "      <td>Avon and Somerset Constabulary</td>\n",
       "      <td>-2.488407</td>\n",
       "      <td>51.405534</td>\n",
       "      <td>On or near Hurn Lane</td>\n",
       "      <td>E01014397</td>\n",
       "      <td>Bath and North East Somerset</td>\n",
       "      <td>Violence and sexual offences</td>\n",
       "      <td>Investigation complete; no suspect identified</td>\n",
       "    </tr>\n",
       "    <tr>\n",
       "      <th>4</th>\n",
       "      <td>97c1f0b82af49d15871d392344d88033f643431bbded44...</td>\n",
       "      <td>2018-01</td>\n",
       "      <td>Avon and Somerset Constabulary</td>\n",
       "      <td>Avon and Somerset Constabulary</td>\n",
       "      <td>-2.391594</td>\n",
       "      <td>51.395315</td>\n",
       "      <td>On or near Greenbank Gardens</td>\n",
       "      <td>E01014480</td>\n",
       "      <td>Bath and North East Somerset</td>\n",
       "      <td>Burglary</td>\n",
       "      <td>Status update unavailable</td>\n",
       "    </tr>\n",
       "    <tr>\n",
       "      <th>5</th>\n",
       "      <td>413f7d3557434b20af60dedf31b83f065a39b3e852b996...</td>\n",
       "      <td>2018-01</td>\n",
       "      <td>Avon and Somerset Constabulary</td>\n",
       "      <td>Avon and Somerset Constabulary</td>\n",
       "      <td>-2.355418</td>\n",
       "      <td>51.39186</td>\n",
       "      <td>On or near Saffron Court</td>\n",
       "      <td>E01014466</td>\n",
       "      <td>Bath and North East Somerset</td>\n",
       "      <td>Violence and sexual offences</td>\n",
       "      <td>Unable to prosecute suspect</td>\n",
       "    </tr>\n",
       "    <tr>\n",
       "      <th>6</th>\n",
       "      <td>4d2822e65d63f9daa4e880e76bbe321f5a0d170aa62ba1...</td>\n",
       "      <td>2018-01</td>\n",
       "      <td>Avon and Somerset Constabulary</td>\n",
       "      <td>Avon and Somerset Constabulary</td>\n",
       "      <td>-2.36032</td>\n",
       "      <td>51.379185</td>\n",
       "      <td>On or near Wine Street</td>\n",
       "      <td>E01014370</td>\n",
       "      <td>Bath and North East Somerset</td>\n",
       "      <td>Violence and sexual offences</td>\n",
       "      <td>Unable to prosecute suspect</td>\n",
       "    </tr>\n",
       "    <tr>\n",
       "      <th>7</th>\n",
       "      <td>11eeee7ed0c1fc16c770060bcb08a788f61cba6e362dd0...</td>\n",
       "      <td>2018-01</td>\n",
       "      <td>Avon and Somerset Constabulary</td>\n",
       "      <td>Avon and Somerset Constabulary</td>\n",
       "      <td>-2.358249</td>\n",
       "      <td>51.378904</td>\n",
       "      <td>On or near Parking Area</td>\n",
       "      <td>E01014371</td>\n",
       "      <td>Bath and North East Somerset</td>\n",
       "      <td>Shoplifting</td>\n",
       "      <td>Local resolution</td>\n",
       "    </tr>\n",
       "    <tr>\n",
       "      <th>8</th>\n",
       "      <td></td>\n",
       "      <td>2018-01</td>\n",
       "      <td>Avon and Somerset Constabulary</td>\n",
       "      <td>Avon and Somerset Constabulary</td>\n",
       "      <td>-2.407279</td>\n",
       "      <td>51.394092</td>\n",
       "      <td>On or near Sports/Recreation Area</td>\n",
       "      <td>E01014430</td>\n",
       "      <td>Bath and North East Somerset</td>\n",
       "      <td>Anti-social behaviour</td>\n",
       "      <td></td>\n",
       "    </tr>\n",
       "    <tr>\n",
       "      <th>9</th>\n",
       "      <td>fb33a05b903c82cfb6f1f788bc8065b475f6b697bbfec0...</td>\n",
       "      <td>2018-01</td>\n",
       "      <td>Avon and Somerset Constabulary</td>\n",
       "      <td>Avon and Somerset Constabulary</td>\n",
       "      <td>-2.395606</td>\n",
       "      <td>51.39549</td>\n",
       "      <td>On or near Sports/Recreation Area</td>\n",
       "      <td>E01014430</td>\n",
       "      <td>Bath and North East Somerset</td>\n",
       "      <td>Violence and sexual offences</td>\n",
       "      <td>Status update unavailable</td>\n",
       "    </tr>\n",
       "  </tbody>\n",
       "</table>\n",
       "</div>"
      ],
      "text/plain": [
       "                                             CrimeID    Month  \\\n",
       "0                                                     2018-01   \n",
       "1                                                     2018-01   \n",
       "2                                                     2018-01   \n",
       "3  14f6a950aa505dc67b86c5f68aa7cdb1d75b237915788c...  2018-01   \n",
       "4  97c1f0b82af49d15871d392344d88033f643431bbded44...  2018-01   \n",
       "5  413f7d3557434b20af60dedf31b83f065a39b3e852b996...  2018-01   \n",
       "6  4d2822e65d63f9daa4e880e76bbe321f5a0d170aa62ba1...  2018-01   \n",
       "7  11eeee7ed0c1fc16c770060bcb08a788f61cba6e362dd0...  2018-01   \n",
       "8                                                     2018-01   \n",
       "9  fb33a05b903c82cfb6f1f788bc8065b475f6b697bbfec0...  2018-01   \n",
       "\n",
       "                       ReportedBy                     FallsWithin  Longitude  \\\n",
       "0  Avon and Somerset Constabulary  Avon and Somerset Constabulary  -2.497168   \n",
       "1  Avon and Somerset Constabulary  Avon and Somerset Constabulary  -2.502878   \n",
       "2  Avon and Somerset Constabulary  Avon and Somerset Constabulary  -2.503825   \n",
       "3  Avon and Somerset Constabulary  Avon and Somerset Constabulary  -2.488407   \n",
       "4  Avon and Somerset Constabulary  Avon and Somerset Constabulary  -2.391594   \n",
       "5  Avon and Somerset Constabulary  Avon and Somerset Constabulary  -2.355418   \n",
       "6  Avon and Somerset Constabulary  Avon and Somerset Constabulary   -2.36032   \n",
       "7  Avon and Somerset Constabulary  Avon and Somerset Constabulary  -2.358249   \n",
       "8  Avon and Somerset Constabulary  Avon and Somerset Constabulary  -2.407279   \n",
       "9  Avon and Somerset Constabulary  Avon and Somerset Constabulary  -2.395606   \n",
       "\n",
       "    Latitude                           Location   LSOAcode  \\\n",
       "0  51.410029         On or near Fairacres Close  E01014403   \n",
       "1  51.406282            On or near Dunster Road  E01014404   \n",
       "2  51.407447          On or near Amberley Close  E01014404   \n",
       "3  51.405534               On or near Hurn Lane  E01014397   \n",
       "4  51.395315       On or near Greenbank Gardens  E01014480   \n",
       "5   51.39186           On or near Saffron Court  E01014466   \n",
       "6  51.379185             On or near Wine Street  E01014370   \n",
       "7  51.378904            On or near Parking Area  E01014371   \n",
       "8  51.394092  On or near Sports/Recreation Area  E01014430   \n",
       "9   51.39549  On or near Sports/Recreation Area  E01014430   \n",
       "\n",
       "                        LSOAname                     CrimeType  \\\n",
       "0  Bath and North East Somerset          Anti-social behaviour   \n",
       "1  Bath and North East Somerset          Anti-social behaviour   \n",
       "2  Bath and North East Somerset          Anti-social behaviour   \n",
       "3  Bath and North East Somerset   Violence and sexual offences   \n",
       "4  Bath and North East Somerset                       Burglary   \n",
       "5  Bath and North East Somerset   Violence and sexual offences   \n",
       "6  Bath and North East Somerset   Violence and sexual offences   \n",
       "7  Bath and North East Somerset                    Shoplifting   \n",
       "8  Bath and North East Somerset          Anti-social behaviour   \n",
       "9  Bath and North East Somerset   Violence and sexual offences   \n",
       "\n",
       "                             LastOutcomeCategory  \n",
       "0                                                 \n",
       "1                                                 \n",
       "2                                                 \n",
       "3  Investigation complete; no suspect identified  \n",
       "4                      Status update unavailable  \n",
       "5                    Unable to prosecute suspect  \n",
       "6                    Unable to prosecute suspect  \n",
       "7                               Local resolution  \n",
       "8                                                 \n",
       "9                      Status update unavailable  "
      ]
     },
     "execution_count": 12,
     "metadata": {},
     "output_type": "execute_result"
    }
   ],
   "source": [
    "df.toPandas().head(10)"
   ]
  },
  {
   "cell_type": "markdown",
   "metadata": {},
   "source": [
    "In the below code code we are <b>GROUP BY total crime count in each month </b> by using <b>SQL</b> queries and creating data frame from that results.\n",
    "<p>Using the function <b>sqlCtx.sql()</b> filtering the crime count in each month with help of SQL queries<p>\n",
    "<p>Converting our existing <b> Dataframes</b> into <b> Pandas Dataframes</b><p>"
   ]
  },
  {
   "cell_type": "markdown",
   "metadata": {},
   "source": [
    "<h3>Data Extraction and Filtering <h3>"
   ]
  },
  {
   "cell_type": "code",
   "execution_count": 13,
   "metadata": {},
   "outputs": [
    {
     "data": {
      "text/html": [
       "<div>\n",
       "<style scoped>\n",
       "    .dataframe tbody tr th:only-of-type {\n",
       "        vertical-align: middle;\n",
       "    }\n",
       "\n",
       "    .dataframe tbody tr th {\n",
       "        vertical-align: top;\n",
       "    }\n",
       "\n",
       "    .dataframe thead th {\n",
       "        text-align: right;\n",
       "    }\n",
       "</style>\n",
       "<table border=\"1\" class=\"dataframe\">\n",
       "  <thead>\n",
       "    <tr style=\"text-align: right;\">\n",
       "      <th></th>\n",
       "      <th>Month</th>\n",
       "      <th>TotalCrimeCount</th>\n",
       "    </tr>\n",
       "  </thead>\n",
       "  <tbody>\n",
       "    <tr>\n",
       "      <th>0</th>\n",
       "      <td>2018-01</td>\n",
       "      <td>5251</td>\n",
       "    </tr>\n",
       "    <tr>\n",
       "      <th>1</th>\n",
       "      <td>2018-02</td>\n",
       "      <td>4617</td>\n",
       "    </tr>\n",
       "    <tr>\n",
       "      <th>2</th>\n",
       "      <td>2018-03</td>\n",
       "      <td>5404</td>\n",
       "    </tr>\n",
       "    <tr>\n",
       "      <th>3</th>\n",
       "      <td>2018-04</td>\n",
       "      <td>5500</td>\n",
       "    </tr>\n",
       "    <tr>\n",
       "      <th>4</th>\n",
       "      <td>2018-05</td>\n",
       "      <td>5847</td>\n",
       "    </tr>\n",
       "    <tr>\n",
       "      <th>5</th>\n",
       "      <td>2018-06</td>\n",
       "      <td>5733</td>\n",
       "    </tr>\n",
       "    <tr>\n",
       "      <th>6</th>\n",
       "      <td>2018-07</td>\n",
       "      <td>5906</td>\n",
       "    </tr>\n",
       "  </tbody>\n",
       "</table>\n",
       "</div>"
      ],
      "text/plain": [
       "     Month  TotalCrimeCount\n",
       "0  2018-01             5251\n",
       "1  2018-02             4617\n",
       "2  2018-03             5404\n",
       "3  2018-04             5500\n",
       "4  2018-05             5847\n",
       "5  2018-06             5733\n",
       "6  2018-07             5906"
      ]
     },
     "execution_count": 13,
     "metadata": {},
     "output_type": "execute_result"
    }
   ],
   "source": [
    "df.registerTempTable(\"CrimeData\")\n",
    "results = sqlCtx.sql(\"SELECT Month, COUNT(*) AS TotalCrimeCount FROM CrimeData GROUP BY Month ORDER BY Month \").collect()\n",
    "CrimeByMonth = sqlCtx.createDataFrame(results)\n",
    "CrimeByMonth.toPandas().head(10)\n",
    "#x.style.set_properties(**{'background-color': 'red',  'color': 'white','border-color': 'red'})"
   ]
  },
  {
   "cell_type": "markdown",
   "metadata": {},
   "source": [
    "In the below code code we are <b>GROUP BY total voilent crimes count in each month </b> by using <b>SQL</b> queries and creating dataframe from that results.From the given dataset I am filtering only voilent crimes. In this analysis I considered these are crimes comes under voilent crime category <b>'Violence and sexual offences','Possession of weapons','Criminal damage and arson','Robbery','Drugs'. </b>\n",
    "<p> Styling the table by using <b>style.format({}).</b><p>"
   ]
  },
  {
   "cell_type": "code",
   "execution_count": 14,
   "metadata": {},
   "outputs": [
    {
     "data": {
      "text/html": [
       "<style  type=\"text/css\" >\n",
       "    #T_5fa95c25_49dc_11eb_bd35_fdbab024822crow0_col1 {\n",
       "            width:  10em;\n",
       "             height:  80%;\n",
       "            background:  linear-gradient(90deg,lightgreen 52.4%, transparent 52.4%);\n",
       "        }    #T_5fa95c25_49dc_11eb_bd35_fdbab024822crow1_col1 {\n",
       "            width:  10em;\n",
       "             height:  80%;\n",
       "        }    #T_5fa95c25_49dc_11eb_bd35_fdbab024822crow2_col1 {\n",
       "            width:  10em;\n",
       "             height:  80%;\n",
       "            background:  linear-gradient(90deg,lightgreen 61.7%, transparent 61.7%);\n",
       "        }    #T_5fa95c25_49dc_11eb_bd35_fdbab024822crow3_col1 {\n",
       "            width:  10em;\n",
       "             height:  80%;\n",
       "            background:  linear-gradient(90deg,lightgreen 63.9%, transparent 63.9%);\n",
       "        }    #T_5fa95c25_49dc_11eb_bd35_fdbab024822crow4_col1 {\n",
       "            width:  10em;\n",
       "             height:  80%;\n",
       "            background:  linear-gradient(90deg,lightgreen 92.2%, transparent 92.2%);\n",
       "        }    #T_5fa95c25_49dc_11eb_bd35_fdbab024822crow5_col1 {\n",
       "            width:  10em;\n",
       "             height:  80%;\n",
       "            background:  linear-gradient(90deg,lightgreen 91.2%, transparent 91.2%);\n",
       "        }    #T_5fa95c25_49dc_11eb_bd35_fdbab024822crow6_col1 {\n",
       "            width:  10em;\n",
       "             height:  80%;\n",
       "            background:  linear-gradient(90deg,lightgreen 100.0%, transparent 100.0%);\n",
       "        }</style><table id=\"T_5fa95c25_49dc_11eb_bd35_fdbab024822c\" ><thead>    <tr>        <th class=\"blank level0\" ></th>        <th class=\"col_heading level0 col0\" >Month</th>        <th class=\"col_heading level0 col1\" >VoilentCrimeCountPerMonth</th>    </tr></thead><tbody>\n",
       "                <tr>\n",
       "                        <th id=\"T_5fa95c25_49dc_11eb_bd35_fdbab024822clevel0_row0\" class=\"row_heading level0 row0\" >0</th>\n",
       "                        <td id=\"T_5fa95c25_49dc_11eb_bd35_fdbab024822crow0_col0\" class=\"data row0 col0\" >2018-01</td>\n",
       "                        <td id=\"T_5fa95c25_49dc_11eb_bd35_fdbab024822crow0_col1\" class=\"data row0 col1\" >2066</td>\n",
       "            </tr>\n",
       "            <tr>\n",
       "                        <th id=\"T_5fa95c25_49dc_11eb_bd35_fdbab024822clevel0_row1\" class=\"row_heading level0 row1\" >1</th>\n",
       "                        <td id=\"T_5fa95c25_49dc_11eb_bd35_fdbab024822crow1_col0\" class=\"data row1 col0\" >2018-02</td>\n",
       "                        <td id=\"T_5fa95c25_49dc_11eb_bd35_fdbab024822crow1_col1\" class=\"data row1 col1\" >1755</td>\n",
       "            </tr>\n",
       "            <tr>\n",
       "                        <th id=\"T_5fa95c25_49dc_11eb_bd35_fdbab024822clevel0_row2\" class=\"row_heading level0 row2\" >2</th>\n",
       "                        <td id=\"T_5fa95c25_49dc_11eb_bd35_fdbab024822crow2_col0\" class=\"data row2 col0\" >2018-03</td>\n",
       "                        <td id=\"T_5fa95c25_49dc_11eb_bd35_fdbab024822crow2_col1\" class=\"data row2 col1\" >2121</td>\n",
       "            </tr>\n",
       "            <tr>\n",
       "                        <th id=\"T_5fa95c25_49dc_11eb_bd35_fdbab024822clevel0_row3\" class=\"row_heading level0 row3\" >3</th>\n",
       "                        <td id=\"T_5fa95c25_49dc_11eb_bd35_fdbab024822crow3_col0\" class=\"data row3 col0\" >2018-04</td>\n",
       "                        <td id=\"T_5fa95c25_49dc_11eb_bd35_fdbab024822crow3_col1\" class=\"data row3 col1\" >2134</td>\n",
       "            </tr>\n",
       "            <tr>\n",
       "                        <th id=\"T_5fa95c25_49dc_11eb_bd35_fdbab024822clevel0_row4\" class=\"row_heading level0 row4\" >4</th>\n",
       "                        <td id=\"T_5fa95c25_49dc_11eb_bd35_fdbab024822crow4_col0\" class=\"data row4 col0\" >2018-05</td>\n",
       "                        <td id=\"T_5fa95c25_49dc_11eb_bd35_fdbab024822crow4_col1\" class=\"data row4 col1\" >2302</td>\n",
       "            </tr>\n",
       "            <tr>\n",
       "                        <th id=\"T_5fa95c25_49dc_11eb_bd35_fdbab024822clevel0_row5\" class=\"row_heading level0 row5\" >5</th>\n",
       "                        <td id=\"T_5fa95c25_49dc_11eb_bd35_fdbab024822crow5_col0\" class=\"data row5 col0\" >2018-06</td>\n",
       "                        <td id=\"T_5fa95c25_49dc_11eb_bd35_fdbab024822crow5_col1\" class=\"data row5 col1\" >2296</td>\n",
       "            </tr>\n",
       "            <tr>\n",
       "                        <th id=\"T_5fa95c25_49dc_11eb_bd35_fdbab024822clevel0_row6\" class=\"row_heading level0 row6\" >6</th>\n",
       "                        <td id=\"T_5fa95c25_49dc_11eb_bd35_fdbab024822crow6_col0\" class=\"data row6 col0\" >2018-07</td>\n",
       "                        <td id=\"T_5fa95c25_49dc_11eb_bd35_fdbab024822crow6_col1\" class=\"data row6 col1\" >2348</td>\n",
       "            </tr>\n",
       "    </tbody></table>"
      ],
      "text/plain": [
       "<pandas.io.formats.style.Styler at 0x23bd51dfd00>"
      ]
     },
     "execution_count": 14,
     "metadata": {},
     "output_type": "execute_result"
    }
   ],
   "source": [
    "results = sqlCtx.sql(\"SELECT Month, COUNT(*) AS VoilentCrimeCountPerMonth FROM CrimeData WHERE (CrimeType ='Violence and sexual offences' OR CrimeType ='Possession of weapons' OR CrimeType ='Criminal damage and arson' OR CrimeType ='Robbery' OR CrimeType ='Drugs' ) GROUP BY Month ORDER BY Month\").collect()\n",
    "VoilentCrimeCount = sqlCtx.createDataFrame(results)\n",
    "x = VoilentCrimeCount.toPandas().head(10)\n",
    "x.style.format({}).bar(subset=[\"VoilentCrimeCountPerMonth\"], color='lightgreen')"
   ]
  },
  {
   "cell_type": "markdown",
   "metadata": {},
   "source": [
    "In the television documentary “Ross Kemp and the Armed Police\" the first claim is \"violent crime is increasing\".<b>From the above results clearly we can see that violent crimes are increasing gradually each month. </b>"
   ]
  },
  {
   "cell_type": "code",
   "execution_count": 15,
   "metadata": {},
   "outputs": [],
   "source": [
    "%matplotlib inline"
   ]
  },
  {
   "cell_type": "markdown",
   "metadata": {},
   "source": [
    "executing <b>%matplotlib inline</b> command for plotting results are displayed directly below the cell."
   ]
  },
  {
   "cell_type": "code",
   "execution_count": 16,
   "metadata": {},
   "outputs": [],
   "source": [
    "import pandas as pd\n",
    "from pandas.plotting import scatter_matrix\n",
    "import matplotlib.pyplot as plt"
   ]
  },
  {
   "cell_type": "markdown",
   "metadata": {},
   "source": [
    "Importing the python plotting library matplotlib for visualizations"
   ]
  },
  {
   "cell_type": "code",
   "execution_count": 17,
   "metadata": {},
   "outputs": [],
   "source": [
    "import matplotlib\n",
    "matplotlib.style.use('ggplot')\n",
    "plt.rcParams['figure.figsize']=(8,6)"
   ]
  },
  {
   "cell_type": "markdown",
   "metadata": {},
   "source": [
    "Styling the output barchart by using <b>.rcParams()</b> and <b>.Style()</b> methods"
   ]
  },
  {
   "cell_type": "markdown",
   "metadata": {},
   "source": [
    "<h3>Data Visualization<h3>"
   ]
  },
  {
   "cell_type": "code",
   "execution_count": 18,
   "metadata": {},
   "outputs": [
    {
     "data": {
      "text/plain": [
       "<matplotlib.axes._subplots.AxesSubplot at 0x23bd61bf9a0>"
      ]
     },
     "execution_count": 18,
     "metadata": {},
     "output_type": "execute_result"
    },
    {
     "data": {
      "image/png": "[encoded data removed]",
      "text/plain": [
       "<Figure size 576x432 with 1 Axes>"
      ]
     },
     "metadata": {},
     "output_type": "display_data"
    }
   ],
   "source": [
    "x.plot.bar(x='Month', y='VoilentCrimeCountPerMonth')"
   ]
  },
  {
   "cell_type": "markdown",
   "metadata": {},
   "source": [
    "                   Graph1: Month v/s VoilentCrimes"
   ]
  },
  {
   "cell_type": "markdown",
   "metadata": {},
   "source": [
    "In the television documentary “Ross Kemp and the Armed Police\" the first claim is <b> \"voilent crime is increasing\".</b><p><b>From the above results (bar chart) clearly we can see that voilent crimes are increasing gradualy each month. </b><p><p>In the month of January'2018 the voilent crime counts are 2066.In the month of July'2018, 248 voilent crimes are increased.<p>\n",
    "<h3>Reason behind use of visualization method</h3><p> If we have <b>comparative data</b> that you would like to represent through a chart then a <b>bar chart</b> would be the best option. In our scenario, we have <b>nominal plus time-series data</b>, so I am using a bar chart to visualize the solution.This type of chart is one of the more familiar options as it is easy to interpret.These charts are useful for displaying data that is classified into <b>nominal or ordinal categories</b>.     "
   ]
  },
  {
   "cell_type": "markdown",
   "metadata": {},
   "source": [
    "In the below code code we are <b>GROUP BY Weapon crime count in each cities </b> by using <b>SQL</b> queries and creating data frame from that results.\n",
    "<p>Using the function <b>sqlCtx.sql()</b> filtering the weapon crime count in each month with help of SQL queries.<p>"
   ]
  },
  {
   "cell_type": "code",
   "execution_count": 19,
   "metadata": {},
   "outputs": [
    {
     "data": {
      "text/html": [
       "<div>\n",
       "<style scoped>\n",
       "    .dataframe tbody tr th:only-of-type {\n",
       "        vertical-align: middle;\n",
       "    }\n",
       "\n",
       "    .dataframe tbody tr th {\n",
       "        vertical-align: top;\n",
       "    }\n",
       "\n",
       "    .dataframe thead th {\n",
       "        text-align: right;\n",
       "    }\n",
       "</style>\n",
       "<table border=\"1\" class=\"dataframe\">\n",
       "  <thead>\n",
       "    <tr style=\"text-align: right;\">\n",
       "      <th></th>\n",
       "      <th>LSOAname</th>\n",
       "      <th>WeaponCrimeCount</th>\n",
       "    </tr>\n",
       "  </thead>\n",
       "  <tbody>\n",
       "    <tr>\n",
       "      <th>0</th>\n",
       "      <td>Manchester</td>\n",
       "      <td>7</td>\n",
       "    </tr>\n",
       "    <tr>\n",
       "      <th>1</th>\n",
       "      <td>Dacorum</td>\n",
       "      <td>6</td>\n",
       "    </tr>\n",
       "    <tr>\n",
       "      <th>2</th>\n",
       "      <td>Calderdale</td>\n",
       "      <td>6</td>\n",
       "    </tr>\n",
       "    <tr>\n",
       "      <th>3</th>\n",
       "      <td>Birmingham</td>\n",
       "      <td>5</td>\n",
       "    </tr>\n",
       "    <tr>\n",
       "      <th>4</th>\n",
       "      <td>Bolton</td>\n",
       "      <td>5</td>\n",
       "    </tr>\n",
       "    <tr>\n",
       "      <th>5</th>\n",
       "      <td>Uttlesford</td>\n",
       "      <td>5</td>\n",
       "    </tr>\n",
       "    <tr>\n",
       "      <th>6</th>\n",
       "      <td>Southwark</td>\n",
       "      <td>5</td>\n",
       "    </tr>\n",
       "    <tr>\n",
       "      <th>7</th>\n",
       "      <td>Liverpool</td>\n",
       "      <td>4</td>\n",
       "    </tr>\n",
       "    <tr>\n",
       "      <th>8</th>\n",
       "      <td>Broxbourne</td>\n",
       "      <td>4</td>\n",
       "    </tr>\n",
       "    <tr>\n",
       "      <th>9</th>\n",
       "      <td>Sheffield</td>\n",
       "      <td>4</td>\n",
       "    </tr>\n",
       "  </tbody>\n",
       "</table>\n",
       "</div>"
      ],
      "text/plain": [
       "      LSOAname  WeaponCrimeCount\n",
       "0  Manchester                  7\n",
       "1     Dacorum                  6\n",
       "2  Calderdale                  6\n",
       "3   Birmingham                 5\n",
       "4      Bolton                  5\n",
       "5  Uttlesford                  5\n",
       "6   Southwark                  5\n",
       "7   Liverpool                  4\n",
       "8  Broxbourne                  4\n",
       "9   Sheffield                  4"
      ]
     },
     "execution_count": 19,
     "metadata": {},
     "output_type": "execute_result"
    }
   ],
   "source": [
    "results = sqlCtx.sql(\"SELECT LSOAname, COUNT(*) AS WeaponCrimeCount FROM CrimeData WHERE  LSOAname !='' AND  CrimeType ='Possession of weapons' GROUP BY LSOAname ORDER BY WeaponCrimeCount DESC\").collect()\n",
    "WeaponCrimeCountInEachCity = sqlCtx.createDataFrame(results)\n",
    "Top10_WeaponCrimeCountInEachCity = WeaponCrimeCountInEachCity.toPandas().head(10)\n",
    "Top10_WeaponCrimeCountInEachCity"
   ]
  },
  {
   "cell_type": "markdown",
   "metadata": {},
   "source": [
    "<p>Below code, Loading <b> population data </b> set from local file system using <b>sc.textfile()</b>, and checking wether file loaded properly by using <b>lines.take()</b><p>"
   ]
  },
  {
   "cell_type": "markdown",
   "metadata": {},
   "source": [
    "<h3>Data Loading<h3>"
   ]
  },
  {
   "cell_type": "code",
   "execution_count": 20,
   "metadata": {},
   "outputs": [
    {
     "data": {
      "text/plain": [
       "['date,geography,geography code,Rural Urban,Variable: All usual residents; measures: Value,Variable: Males; measures: Value,Variable: Females; measures: Value,Variable: Lives in a household; measures: Value,Variable: Lives in a communal establishment; measures: Value,Variable: Schoolchild or full-time student aged 4 and over at their non term-time address; measures: Value,Variable: Area (Hectares); measures: Value,Variable: Density (number of persons per hectare); measures: Value',\n",
       " '2011,Darlington ,E01012334,Total,2466,1220,1246,2466,0,42,6033.58,0.4',\n",
       " '2011,Darlington ,E01012335,Total,1383,682,701,1383,0,21,114.01,12.1',\n",
       " '2011,Darlington ,E01012366,Total,2008,972,1036,2008,0,30,6718.16,0.3',\n",
       " '2011,Darlington ,E01033481,Total,1364,680,684,1350,14,21,146.95,9.3']"
      ]
     },
     "execution_count": 20,
     "metadata": {},
     "output_type": "execute_result"
    }
   ],
   "source": [
    "lines = sc.textFile(\"file:///Users/alanj/Desktop/LSOA_Population.csv\")\n",
    "lines.take(5)"
   ]
  },
  {
   "cell_type": "markdown",
   "metadata": {},
   "source": [
    "<p> In the below code we're defining a <b> parseline() function</b> and <b>passing line as an argument to the parseline function.</b><p>\n",
    "<p><b>fields = line.split(',')</b> will split all the records into readable rows and columns<p>\n",
    "<p> the rest of the line will read each attribute in our dataset and assign them to a particular field <p>"
   ]
  },
  {
   "cell_type": "markdown",
   "metadata": {},
   "source": [
    "<h3>Component Selection and Data Pipeline Implementation<h3>"
   ]
  },
  {
   "cell_type": "code",
   "execution_count": 21,
   "metadata": {},
   "outputs": [],
   "source": [
    "def parseline(line):\n",
    "    fields = line.split(',')\n",
    "    Date = fields[0]\n",
    "    Geography = fields[1]\n",
    "    GeographyCode = fields[2]\n",
    "    RuralUrban = fields[3]\n",
    "    AllUsualResidents = int(fields[4])\n",
    "    Males = int(fields[5])\n",
    "    Females = int(fields[6]) \n",
    "    LivesInHouseHold = fields[7]\n",
    "    LivesInCommunalEst = fields[8]\n",
    "    SchoolChild = fields[9]\n",
    "    Area = fields[10]\n",
    "    Density = fields[11]\n",
    "    return (Geography,GeographyCode,AllUsualResidents,Males,Females,LivesInHouseHold,Area,Density)\n"
   ]
  },
  {
   "cell_type": "markdown",
   "metadata": {},
   "source": [
    "<p>Below code, Extracting header from the given data set by using the <b>filter()</b> function<p>"
   ]
  },
  {
   "cell_type": "code",
   "execution_count": 22,
   "metadata": {},
   "outputs": [],
   "source": [
    "header = lines.first() \n",
    "justdata = lines.filter(lambda row: row != header)"
   ]
  },
  {
   "cell_type": "markdown",
   "metadata": {},
   "source": [
    "Passing an attribute parseline into <b>.map()</b> method to generate RDD\n",
    "Resilient Distributed Datasets (RDD) is a fundamental data structure of Spark."
   ]
  },
  {
   "cell_type": "code",
   "execution_count": 23,
   "metadata": {},
   "outputs": [],
   "source": [
    "rdd_location = justdata.map(parseline)"
   ]
  },
  {
   "cell_type": "code",
   "execution_count": 24,
   "metadata": {},
   "outputs": [
    {
     "name": "stdout",
     "output_type": "stream",
     "text": [
      "34753\n"
     ]
    }
   ],
   "source": [
    "print(rdd_location.count())"
   ]
  },
  {
   "cell_type": "markdown",
   "metadata": {},
   "source": [
    "<p>Creating dataFrame by passing the <b> argument rdd_location</b> in the <b>.createDataFrame()</b> method.<p>\n",
    "<b>Notes:</b> A data frame is a table or a two-dimensional array-like structure in which each column contains values of one variable and each row contains one set of values from each column."
   ]
  },
  {
   "cell_type": "code",
   "execution_count": 25,
   "metadata": {},
   "outputs": [],
   "source": [
    "df_location = sqlCtx.createDataFrame(rdd_location, ['Geography','GeographyCode','AllUsualResidents','Males','Females','LivesInHouseHold','Area','Density'])"
   ]
  },
  {
   "cell_type": "markdown",
   "metadata": {},
   "source": [
    "<p>Below code, converting our existing <b> Dataframes</b> into <b> Pandas Dataframes</b>"
   ]
  },
  {
   "cell_type": "code",
   "execution_count": 26,
   "metadata": {},
   "outputs": [
    {
     "data": {
      "text/html": [
       "<div>\n",
       "<style scoped>\n",
       "    .dataframe tbody tr th:only-of-type {\n",
       "        vertical-align: middle;\n",
       "    }\n",
       "\n",
       "    .dataframe tbody tr th {\n",
       "        vertical-align: top;\n",
       "    }\n",
       "\n",
       "    .dataframe thead th {\n",
       "        text-align: right;\n",
       "    }\n",
       "</style>\n",
       "<table border=\"1\" class=\"dataframe\">\n",
       "  <thead>\n",
       "    <tr style=\"text-align: right;\">\n",
       "      <th></th>\n",
       "      <th>Geography</th>\n",
       "      <th>GeographyCode</th>\n",
       "      <th>AllUsualResidents</th>\n",
       "      <th>Males</th>\n",
       "      <th>Females</th>\n",
       "      <th>LivesInHouseHold</th>\n",
       "      <th>Area</th>\n",
       "      <th>Density</th>\n",
       "    </tr>\n",
       "  </thead>\n",
       "  <tbody>\n",
       "    <tr>\n",
       "      <th>0</th>\n",
       "      <td>Darlington</td>\n",
       "      <td>E01012334</td>\n",
       "      <td>2466</td>\n",
       "      <td>1220</td>\n",
       "      <td>1246</td>\n",
       "      <td>2466</td>\n",
       "      <td>6033.58</td>\n",
       "      <td>0.4</td>\n",
       "    </tr>\n",
       "    <tr>\n",
       "      <th>1</th>\n",
       "      <td>Darlington</td>\n",
       "      <td>E01012335</td>\n",
       "      <td>1383</td>\n",
       "      <td>682</td>\n",
       "      <td>701</td>\n",
       "      <td>1383</td>\n",
       "      <td>114.01</td>\n",
       "      <td>12.1</td>\n",
       "    </tr>\n",
       "    <tr>\n",
       "      <th>2</th>\n",
       "      <td>Darlington</td>\n",
       "      <td>E01012366</td>\n",
       "      <td>2008</td>\n",
       "      <td>972</td>\n",
       "      <td>1036</td>\n",
       "      <td>2008</td>\n",
       "      <td>6718.16</td>\n",
       "      <td>0.3</td>\n",
       "    </tr>\n",
       "    <tr>\n",
       "      <th>3</th>\n",
       "      <td>Darlington</td>\n",
       "      <td>E01033481</td>\n",
       "      <td>1364</td>\n",
       "      <td>680</td>\n",
       "      <td>684</td>\n",
       "      <td>1350</td>\n",
       "      <td>146.95</td>\n",
       "      <td>9.3</td>\n",
       "    </tr>\n",
       "    <tr>\n",
       "      <th>4</th>\n",
       "      <td>Darlington</td>\n",
       "      <td>E01033482</td>\n",
       "      <td>1621</td>\n",
       "      <td>810</td>\n",
       "      <td>811</td>\n",
       "      <td>1621</td>\n",
       "      <td>234.31</td>\n",
       "      <td>6.9</td>\n",
       "    </tr>\n",
       "    <tr>\n",
       "      <th>5</th>\n",
       "      <td>Darlington</td>\n",
       "      <td>E01012323</td>\n",
       "      <td>1563</td>\n",
       "      <td>799</td>\n",
       "      <td>764</td>\n",
       "      <td>1563</td>\n",
       "      <td>55.47</td>\n",
       "      <td>28.2</td>\n",
       "    </tr>\n",
       "    <tr>\n",
       "      <th>6</th>\n",
       "      <td>Darlington</td>\n",
       "      <td>E01012324</td>\n",
       "      <td>1399</td>\n",
       "      <td>671</td>\n",
       "      <td>728</td>\n",
       "      <td>1399</td>\n",
       "      <td>20.68</td>\n",
       "      <td>67.6</td>\n",
       "    </tr>\n",
       "    <tr>\n",
       "      <th>7</th>\n",
       "      <td>Darlington</td>\n",
       "      <td>E01032545</td>\n",
       "      <td>1259</td>\n",
       "      <td>631</td>\n",
       "      <td>628</td>\n",
       "      <td>1257</td>\n",
       "      <td>36.06</td>\n",
       "      <td>34.9</td>\n",
       "    </tr>\n",
       "    <tr>\n",
       "      <th>8</th>\n",
       "      <td>Darlington</td>\n",
       "      <td>E01032546</td>\n",
       "      <td>1776</td>\n",
       "      <td>886</td>\n",
       "      <td>890</td>\n",
       "      <td>1775</td>\n",
       "      <td>93.82</td>\n",
       "      <td>18.9</td>\n",
       "    </tr>\n",
       "    <tr>\n",
       "      <th>9</th>\n",
       "      <td>Darlington</td>\n",
       "      <td>E01012328</td>\n",
       "      <td>1571</td>\n",
       "      <td>768</td>\n",
       "      <td>803</td>\n",
       "      <td>1571</td>\n",
       "      <td>25.72</td>\n",
       "      <td>61.1</td>\n",
       "    </tr>\n",
       "  </tbody>\n",
       "</table>\n",
       "</div>"
      ],
      "text/plain": [
       "     Geography GeographyCode  AllUsualResidents  Males  Females  \\\n",
       "0  Darlington      E01012334               2466   1220     1246   \n",
       "1  Darlington      E01012335               1383    682      701   \n",
       "2  Darlington      E01012366               2008    972     1036   \n",
       "3  Darlington      E01033481               1364    680      684   \n",
       "4  Darlington      E01033482               1621    810      811   \n",
       "5  Darlington      E01012323               1563    799      764   \n",
       "6  Darlington      E01012324               1399    671      728   \n",
       "7  Darlington      E01032545               1259    631      628   \n",
       "8  Darlington      E01032546               1776    886      890   \n",
       "9  Darlington      E01012328               1571    768      803   \n",
       "\n",
       "  LivesInHouseHold     Area Density  \n",
       "0             2466  6033.58     0.4  \n",
       "1             1383   114.01    12.1  \n",
       "2             2008  6718.16     0.3  \n",
       "3             1350   146.95     9.3  \n",
       "4             1621   234.31     6.9  \n",
       "5             1563    55.47    28.2  \n",
       "6             1399    20.68    67.6  \n",
       "7             1257    36.06    34.9  \n",
       "8             1775    93.82    18.9  \n",
       "9             1571    25.72    61.1  "
      ]
     },
     "execution_count": 26,
     "metadata": {},
     "output_type": "execute_result"
    }
   ],
   "source": [
    "df_location.toPandas().head(10)"
   ]
  },
  {
   "cell_type": "markdown",
   "metadata": {},
   "source": [
    "In the below code code we are <b>GROUP BY Population in each cities </b> by using <b>SQL</b> queries and creating data frame from that results.\n",
    "<p>Using the function <b>sqlCtx.sql()</b> filtering the population in each cities with help of SQL queries.<p>"
   ]
  },
  {
   "cell_type": "markdown",
   "metadata": {},
   "source": [
    "<h3>Data Extraction and Filtering <h3>"
   ]
  },
  {
   "cell_type": "code",
   "execution_count": 27,
   "metadata": {},
   "outputs": [
    {
     "data": {
      "text/html": [
       "<div>\n",
       "<style scoped>\n",
       "    .dataframe tbody tr th:only-of-type {\n",
       "        vertical-align: middle;\n",
       "    }\n",
       "\n",
       "    .dataframe tbody tr th {\n",
       "        vertical-align: top;\n",
       "    }\n",
       "\n",
       "    .dataframe thead th {\n",
       "        text-align: right;\n",
       "    }\n",
       "</style>\n",
       "<table border=\"1\" class=\"dataframe\">\n",
       "  <thead>\n",
       "    <tr style=\"text-align: right;\">\n",
       "      <th></th>\n",
       "      <th>Geography</th>\n",
       "      <th>TotalPopulation</th>\n",
       "    </tr>\n",
       "  </thead>\n",
       "  <tbody>\n",
       "    <tr>\n",
       "      <th>0</th>\n",
       "      <td>Birmingham</td>\n",
       "      <td>1073045</td>\n",
       "    </tr>\n",
       "    <tr>\n",
       "      <th>1</th>\n",
       "      <td>Leeds</td>\n",
       "      <td>751485</td>\n",
       "    </tr>\n",
       "    <tr>\n",
       "      <th>2</th>\n",
       "      <td>Sheffield</td>\n",
       "      <td>552698</td>\n",
       "    </tr>\n",
       "    <tr>\n",
       "      <th>3</th>\n",
       "      <td>Cornwall</td>\n",
       "      <td>532273</td>\n",
       "    </tr>\n",
       "    <tr>\n",
       "      <th>4</th>\n",
       "      <td>Bradford</td>\n",
       "      <td>522452</td>\n",
       "    </tr>\n",
       "    <tr>\n",
       "      <th>5</th>\n",
       "      <td>County Durham</td>\n",
       "      <td>513242</td>\n",
       "    </tr>\n",
       "    <tr>\n",
       "      <th>6</th>\n",
       "      <td>Manchester</td>\n",
       "      <td>503127</td>\n",
       "    </tr>\n",
       "    <tr>\n",
       "      <th>7</th>\n",
       "      <td>Wiltshire</td>\n",
       "      <td>470981</td>\n",
       "    </tr>\n",
       "    <tr>\n",
       "      <th>8</th>\n",
       "      <td>Liverpool</td>\n",
       "      <td>466415</td>\n",
       "    </tr>\n",
       "    <tr>\n",
       "      <th>9</th>\n",
       "      <td>Bristol</td>\n",
       "      <td>428234</td>\n",
       "    </tr>\n",
       "  </tbody>\n",
       "</table>\n",
       "</div>"
      ],
      "text/plain": [
       "        Geography  TotalPopulation\n",
       "0      Birmingham          1073045\n",
       "1          Leeds            751485\n",
       "2      Sheffield            552698\n",
       "3       Cornwall            532273\n",
       "4       Bradford            522452\n",
       "5  County Durham            513242\n",
       "6     Manchester            503127\n",
       "7      Wiltshire            470981\n",
       "8      Liverpool            466415\n",
       "9        Bristol            428234"
      ]
     },
     "execution_count": 27,
     "metadata": {},
     "output_type": "execute_result"
    }
   ],
   "source": [
    "df_location.registerTempTable(\"LocationData\")\n",
    "results = sqlCtx.sql(\"SELECT LocationData.Geography,SUM (AllUsualResidents) AS TotalPopulation  FROM LocationData GROUP BY Geography ORDER BY TotalPopulation  DESC\").collect()\n",
    "PopulationInEachCity = sqlCtx.createDataFrame(results)\n",
    "PopulationInEachCity.toPandas().head(10)\n"
   ]
  },
  {
   "cell_type": "markdown",
   "metadata": {},
   "source": [
    "<p>In the above table, We can see the citywide population.<p>In the television documentary “Ross Kemp and the Armed Police\" the second claim is <b> There are more firearm incidents per head in Birmingham than anywhere else in the UK.</b>To Analyse that claim, filtering citywide population."
   ]
  },
  {
   "cell_type": "code",
   "execution_count": 28,
   "metadata": {},
   "outputs": [
    {
     "data": {
      "text/html": [
       "<div>\n",
       "<style scoped>\n",
       "    .dataframe tbody tr th:only-of-type {\n",
       "        vertical-align: middle;\n",
       "    }\n",
       "\n",
       "    .dataframe tbody tr th {\n",
       "        vertical-align: top;\n",
       "    }\n",
       "\n",
       "    .dataframe thead th {\n",
       "        text-align: right;\n",
       "    }\n",
       "</style>\n",
       "<table border=\"1\" class=\"dataframe\">\n",
       "  <thead>\n",
       "    <tr style=\"text-align: right;\">\n",
       "      <th></th>\n",
       "      <th>LSOAname</th>\n",
       "      <th>TotalPopulation</th>\n",
       "    </tr>\n",
       "  </thead>\n",
       "  <tbody>\n",
       "    <tr>\n",
       "      <th>0</th>\n",
       "      <td>Birmingham</td>\n",
       "      <td>1073045</td>\n",
       "    </tr>\n",
       "    <tr>\n",
       "      <th>1</th>\n",
       "      <td>Sheffield</td>\n",
       "      <td>552698</td>\n",
       "    </tr>\n",
       "    <tr>\n",
       "      <th>2</th>\n",
       "      <td>Manchester</td>\n",
       "      <td>503127</td>\n",
       "    </tr>\n",
       "    <tr>\n",
       "      <th>3</th>\n",
       "      <td>Liverpool</td>\n",
       "      <td>466415</td>\n",
       "    </tr>\n",
       "    <tr>\n",
       "      <th>4</th>\n",
       "      <td>Southwark</td>\n",
       "      <td>288283</td>\n",
       "    </tr>\n",
       "    <tr>\n",
       "      <th>5</th>\n",
       "      <td>Bolton</td>\n",
       "      <td>276786</td>\n",
       "    </tr>\n",
       "    <tr>\n",
       "      <th>6</th>\n",
       "      <td>Calderdale</td>\n",
       "      <td>203826</td>\n",
       "    </tr>\n",
       "    <tr>\n",
       "      <th>7</th>\n",
       "      <td>Dacorum</td>\n",
       "      <td>144847</td>\n",
       "    </tr>\n",
       "    <tr>\n",
       "      <th>8</th>\n",
       "      <td>Broxbourne</td>\n",
       "      <td>93609</td>\n",
       "    </tr>\n",
       "    <tr>\n",
       "      <th>9</th>\n",
       "      <td>Uttlesford</td>\n",
       "      <td>79443</td>\n",
       "    </tr>\n",
       "  </tbody>\n",
       "</table>\n",
       "</div>"
      ],
      "text/plain": [
       "      LSOAname  TotalPopulation\n",
       "0   Birmingham          1073045\n",
       "1   Sheffield            552698\n",
       "2  Manchester            503127\n",
       "3   Liverpool            466415\n",
       "4   Southwark            288283\n",
       "5      Bolton            276786\n",
       "6  Calderdale            203826\n",
       "7     Dacorum            144847\n",
       "8  Broxbourne             93609\n",
       "9  Uttlesford             79443"
      ]
     },
     "execution_count": 28,
     "metadata": {},
     "output_type": "execute_result"
    }
   ],
   "source": [
    "df_location.registerTempTable(\"LocationData\")\n",
    "results = sqlCtx.sql(\"SELECT LocationData.Geography AS LSOAname,SUM (AllUsualResidents) AS TotalPopulation  FROM LocationData WHERE (Geography ='Manchester ' OR Geography ='Dacorum ' OR Geography ='Calderdale '  OR Geography ='Birmingham' OR Geography ='Bolton ' OR Geography ='Uttlesford ' OR Geography ='Southwark ' OR Geography ='Liverpool ' OR Geography ='Broxbourne ' OR Geography ='Sheffield ' ) GROUP BY Geography ORDER BY TotalPopulation  DESC\").collect()\n",
    "PopulationInEachCity = sqlCtx.createDataFrame(results)\n",
    "top10_PopulationInEachCity = PopulationInEachCity.toPandas().head(10)\n",
    "top10_PopulationInEachCity"
   ]
  },
  {
   "cell_type": "markdown",
   "metadata": {},
   "source": [
    "<p> We then merge the two pandas data frame by taking <b> LSOAname as the key</b>. This enables us to divide the <b>WeaponCrimeCount Column </b> and the <b>TotalPopulation column</b> to give us the <b> CrimePerHead </b> in each cities.\n",
    "<p>Merging action is performed by using <b>pd.merge()</b> method.<p>\n",
    "    \n",
    "<p><b>Firearm Crime per head = total firearm crime in city A / total population in city A</b><p>"
   ]
  },
  {
   "cell_type": "code",
   "execution_count": 29,
   "metadata": {},
   "outputs": [
    {
     "data": {
      "text/html": [
       "<div>\n",
       "<style scoped>\n",
       "    .dataframe tbody tr th:only-of-type {\n",
       "        vertical-align: middle;\n",
       "    }\n",
       "\n",
       "    .dataframe tbody tr th {\n",
       "        vertical-align: top;\n",
       "    }\n",
       "\n",
       "    .dataframe thead th {\n",
       "        text-align: right;\n",
       "    }\n",
       "</style>\n",
       "<table border=\"1\" class=\"dataframe\">\n",
       "  <thead>\n",
       "    <tr style=\"text-align: right;\">\n",
       "      <th></th>\n",
       "      <th>LSOAname</th>\n",
       "      <th>WeaponCrimeCount</th>\n",
       "      <th>TotalPopulation</th>\n",
       "      <th>CrimePerHead</th>\n",
       "    </tr>\n",
       "  </thead>\n",
       "  <tbody>\n",
       "    <tr>\n",
       "      <th>0</th>\n",
       "      <td>Manchester</td>\n",
       "      <td>7</td>\n",
       "      <td>503127</td>\n",
       "      <td>0.000007</td>\n",
       "    </tr>\n",
       "    <tr>\n",
       "      <th>1</th>\n",
       "      <td>Dacorum</td>\n",
       "      <td>6</td>\n",
       "      <td>144847</td>\n",
       "      <td>0.000011</td>\n",
       "    </tr>\n",
       "    <tr>\n",
       "      <th>2</th>\n",
       "      <td>Calderdale</td>\n",
       "      <td>6</td>\n",
       "      <td>203826</td>\n",
       "      <td>0.000012</td>\n",
       "    </tr>\n",
       "    <tr>\n",
       "      <th>3</th>\n",
       "      <td>Birmingham</td>\n",
       "      <td>5</td>\n",
       "      <td>1073045</td>\n",
       "      <td>0.000011</td>\n",
       "    </tr>\n",
       "    <tr>\n",
       "      <th>4</th>\n",
       "      <td>Bolton</td>\n",
       "      <td>5</td>\n",
       "      <td>276786</td>\n",
       "      <td>0.000017</td>\n",
       "    </tr>\n",
       "    <tr>\n",
       "      <th>5</th>\n",
       "      <td>Uttlesford</td>\n",
       "      <td>5</td>\n",
       "      <td>79443</td>\n",
       "      <td>0.000018</td>\n",
       "    </tr>\n",
       "    <tr>\n",
       "      <th>6</th>\n",
       "      <td>Southwark</td>\n",
       "      <td>5</td>\n",
       "      <td>288283</td>\n",
       "      <td>0.000025</td>\n",
       "    </tr>\n",
       "    <tr>\n",
       "      <th>7</th>\n",
       "      <td>Liverpool</td>\n",
       "      <td>4</td>\n",
       "      <td>466415</td>\n",
       "      <td>0.000028</td>\n",
       "    </tr>\n",
       "    <tr>\n",
       "      <th>8</th>\n",
       "      <td>Broxbourne</td>\n",
       "      <td>4</td>\n",
       "      <td>93609</td>\n",
       "      <td>0.000043</td>\n",
       "    </tr>\n",
       "    <tr>\n",
       "      <th>9</th>\n",
       "      <td>Sheffield</td>\n",
       "      <td>4</td>\n",
       "      <td>552698</td>\n",
       "      <td>0.000050</td>\n",
       "    </tr>\n",
       "  </tbody>\n",
       "</table>\n",
       "</div>"
      ],
      "text/plain": [
       "      LSOAname  WeaponCrimeCount  TotalPopulation  CrimePerHead\n",
       "0  Manchester                  7           503127      0.000007\n",
       "1     Dacorum                  6           144847      0.000011\n",
       "2  Calderdale                  6           203826      0.000012\n",
       "3   Birmingham                 5          1073045      0.000011\n",
       "4      Bolton                  5           276786      0.000017\n",
       "5  Uttlesford                  5            79443      0.000018\n",
       "6   Southwark                  5           288283      0.000025\n",
       "7   Liverpool                  4           466415      0.000028\n",
       "8  Broxbourne                  4            93609      0.000043\n",
       "9   Sheffield                  4           552698      0.000050"
      ]
     },
     "execution_count": 29,
     "metadata": {},
     "output_type": "execute_result"
    }
   ],
   "source": [
    "WeaponCrime_Population = pd.merge(Top10_WeaponCrimeCountInEachCity, top10_PopulationInEachCity, on = 'LSOAname')\n",
    "WeaponCrime_Population['CrimePerHead'] = (Top10_WeaponCrimeCountInEachCity['WeaponCrimeCount']/top10_PopulationInEachCity['TotalPopulation'])\n",
    "WeaponCrime_Population"
   ]
  },
  {
   "cell_type": "markdown",
   "metadata": {},
   "source": [
    "Sorting the above results in descending order by using <b>.sort_values()</b> method."
   ]
  },
  {
   "cell_type": "code",
   "execution_count": 30,
   "metadata": {},
   "outputs": [
    {
     "data": {
      "text/html": [
       "<style  type=\"text/css\" >\n",
       "    #T_9b90f6df_49dc_11eb_abae_fdbab024822crow0_col3 {\n",
       "            width:  10em;\n",
       "             height:  80%;\n",
       "            background:  linear-gradient(90deg,lightgreen 100.0%, transparent 100.0%);\n",
       "        }    #T_9b90f6df_49dc_11eb_abae_fdbab024822crow1_col3 {\n",
       "            width:  10em;\n",
       "             height:  80%;\n",
       "            background:  linear-gradient(90deg,lightgreen 82.6%, transparent 82.6%);\n",
       "        }    #T_9b90f6df_49dc_11eb_abae_fdbab024822crow2_col3 {\n",
       "            width:  10em;\n",
       "             height:  80%;\n",
       "            background:  linear-gradient(90deg,lightgreen 48.1%, transparent 48.1%);\n",
       "        }    #T_9b90f6df_49dc_11eb_abae_fdbab024822crow3_col3 {\n",
       "            width:  10em;\n",
       "             height:  80%;\n",
       "            background:  linear-gradient(90deg,lightgreen 41.1%, transparent 41.1%);\n",
       "        }    #T_9b90f6df_49dc_11eb_abae_fdbab024822crow4_col3 {\n",
       "            width:  10em;\n",
       "             height:  80%;\n",
       "            background:  linear-gradient(90deg,lightgreen 26.3%, transparent 26.3%);\n",
       "        }    #T_9b90f6df_49dc_11eb_abae_fdbab024822crow5_col3 {\n",
       "            width:  10em;\n",
       "             height:  80%;\n",
       "            background:  linear-gradient(90deg,lightgreen 24.7%, transparent 24.7%);\n",
       "        }    #T_9b90f6df_49dc_11eb_abae_fdbab024822crow6_col3 {\n",
       "            width:  10em;\n",
       "             height:  80%;\n",
       "            background:  linear-gradient(90deg,lightgreen 12.3%, transparent 12.3%);\n",
       "        }    #T_9b90f6df_49dc_11eb_abae_fdbab024822crow7_col3 {\n",
       "            width:  10em;\n",
       "             height:  80%;\n",
       "            background:  linear-gradient(90deg,lightgreen 9.9%, transparent 9.9%);\n",
       "        }    #T_9b90f6df_49dc_11eb_abae_fdbab024822crow8_col3 {\n",
       "            width:  10em;\n",
       "             height:  80%;\n",
       "            background:  linear-gradient(90deg,lightgreen 9.6%, transparent 9.6%);\n",
       "        }    #T_9b90f6df_49dc_11eb_abae_fdbab024822crow9_col3 {\n",
       "            width:  10em;\n",
       "             height:  80%;\n",
       "        }</style><table id=\"T_9b90f6df_49dc_11eb_abae_fdbab024822c\" ><thead>    <tr>        <th class=\"blank level0\" ></th>        <th class=\"col_heading level0 col0\" >LSOAname</th>        <th class=\"col_heading level0 col1\" >WeaponCrimeCount</th>        <th class=\"col_heading level0 col2\" >TotalPopulation</th>        <th class=\"col_heading level0 col3\" >CrimePerHead</th>    </tr></thead><tbody>\n",
       "                <tr>\n",
       "                        <th id=\"T_9b90f6df_49dc_11eb_abae_fdbab024822clevel0_row0\" class=\"row_heading level0 row0\" >9</th>\n",
       "                        <td id=\"T_9b90f6df_49dc_11eb_abae_fdbab024822crow0_col0\" class=\"data row0 col0\" >Sheffield </td>\n",
       "                        <td id=\"T_9b90f6df_49dc_11eb_abae_fdbab024822crow0_col1\" class=\"data row0 col1\" >4</td>\n",
       "                        <td id=\"T_9b90f6df_49dc_11eb_abae_fdbab024822crow0_col2\" class=\"data row0 col2\" >552698</td>\n",
       "                        <td id=\"T_9b90f6df_49dc_11eb_abae_fdbab024822crow0_col3\" class=\"data row0 col3\" >0.000050</td>\n",
       "            </tr>\n",
       "            <tr>\n",
       "                        <th id=\"T_9b90f6df_49dc_11eb_abae_fdbab024822clevel0_row1\" class=\"row_heading level0 row1\" >8</th>\n",
       "                        <td id=\"T_9b90f6df_49dc_11eb_abae_fdbab024822crow1_col0\" class=\"data row1 col0\" >Broxbourne </td>\n",
       "                        <td id=\"T_9b90f6df_49dc_11eb_abae_fdbab024822crow1_col1\" class=\"data row1 col1\" >4</td>\n",
       "                        <td id=\"T_9b90f6df_49dc_11eb_abae_fdbab024822crow1_col2\" class=\"data row1 col2\" >93609</td>\n",
       "                        <td id=\"T_9b90f6df_49dc_11eb_abae_fdbab024822crow1_col3\" class=\"data row1 col3\" >0.000043</td>\n",
       "            </tr>\n",
       "            <tr>\n",
       "                        <th id=\"T_9b90f6df_49dc_11eb_abae_fdbab024822clevel0_row2\" class=\"row_heading level0 row2\" >7</th>\n",
       "                        <td id=\"T_9b90f6df_49dc_11eb_abae_fdbab024822crow2_col0\" class=\"data row2 col0\" >Liverpool </td>\n",
       "                        <td id=\"T_9b90f6df_49dc_11eb_abae_fdbab024822crow2_col1\" class=\"data row2 col1\" >4</td>\n",
       "                        <td id=\"T_9b90f6df_49dc_11eb_abae_fdbab024822crow2_col2\" class=\"data row2 col2\" >466415</td>\n",
       "                        <td id=\"T_9b90f6df_49dc_11eb_abae_fdbab024822crow2_col3\" class=\"data row2 col3\" >0.000028</td>\n",
       "            </tr>\n",
       "            <tr>\n",
       "                        <th id=\"T_9b90f6df_49dc_11eb_abae_fdbab024822clevel0_row3\" class=\"row_heading level0 row3\" >6</th>\n",
       "                        <td id=\"T_9b90f6df_49dc_11eb_abae_fdbab024822crow3_col0\" class=\"data row3 col0\" >Southwark </td>\n",
       "                        <td id=\"T_9b90f6df_49dc_11eb_abae_fdbab024822crow3_col1\" class=\"data row3 col1\" >5</td>\n",
       "                        <td id=\"T_9b90f6df_49dc_11eb_abae_fdbab024822crow3_col2\" class=\"data row3 col2\" >288283</td>\n",
       "                        <td id=\"T_9b90f6df_49dc_11eb_abae_fdbab024822crow3_col3\" class=\"data row3 col3\" >0.000025</td>\n",
       "            </tr>\n",
       "            <tr>\n",
       "                        <th id=\"T_9b90f6df_49dc_11eb_abae_fdbab024822clevel0_row4\" class=\"row_heading level0 row4\" >5</th>\n",
       "                        <td id=\"T_9b90f6df_49dc_11eb_abae_fdbab024822crow4_col0\" class=\"data row4 col0\" >Uttlesford </td>\n",
       "                        <td id=\"T_9b90f6df_49dc_11eb_abae_fdbab024822crow4_col1\" class=\"data row4 col1\" >5</td>\n",
       "                        <td id=\"T_9b90f6df_49dc_11eb_abae_fdbab024822crow4_col2\" class=\"data row4 col2\" >79443</td>\n",
       "                        <td id=\"T_9b90f6df_49dc_11eb_abae_fdbab024822crow4_col3\" class=\"data row4 col3\" >0.000018</td>\n",
       "            </tr>\n",
       "            <tr>\n",
       "                        <th id=\"T_9b90f6df_49dc_11eb_abae_fdbab024822clevel0_row5\" class=\"row_heading level0 row5\" >4</th>\n",
       "                        <td id=\"T_9b90f6df_49dc_11eb_abae_fdbab024822crow5_col0\" class=\"data row5 col0\" >Bolton </td>\n",
       "                        <td id=\"T_9b90f6df_49dc_11eb_abae_fdbab024822crow5_col1\" class=\"data row5 col1\" >5</td>\n",
       "                        <td id=\"T_9b90f6df_49dc_11eb_abae_fdbab024822crow5_col2\" class=\"data row5 col2\" >276786</td>\n",
       "                        <td id=\"T_9b90f6df_49dc_11eb_abae_fdbab024822crow5_col3\" class=\"data row5 col3\" >0.000017</td>\n",
       "            </tr>\n",
       "            <tr>\n",
       "                        <th id=\"T_9b90f6df_49dc_11eb_abae_fdbab024822clevel0_row6\" class=\"row_heading level0 row6\" >2</th>\n",
       "                        <td id=\"T_9b90f6df_49dc_11eb_abae_fdbab024822crow6_col0\" class=\"data row6 col0\" >Calderdale </td>\n",
       "                        <td id=\"T_9b90f6df_49dc_11eb_abae_fdbab024822crow6_col1\" class=\"data row6 col1\" >6</td>\n",
       "                        <td id=\"T_9b90f6df_49dc_11eb_abae_fdbab024822crow6_col2\" class=\"data row6 col2\" >203826</td>\n",
       "                        <td id=\"T_9b90f6df_49dc_11eb_abae_fdbab024822crow6_col3\" class=\"data row6 col3\" >0.000012</td>\n",
       "            </tr>\n",
       "            <tr>\n",
       "                        <th id=\"T_9b90f6df_49dc_11eb_abae_fdbab024822clevel0_row7\" class=\"row_heading level0 row7\" >1</th>\n",
       "                        <td id=\"T_9b90f6df_49dc_11eb_abae_fdbab024822crow7_col0\" class=\"data row7 col0\" >Dacorum </td>\n",
       "                        <td id=\"T_9b90f6df_49dc_11eb_abae_fdbab024822crow7_col1\" class=\"data row7 col1\" >6</td>\n",
       "                        <td id=\"T_9b90f6df_49dc_11eb_abae_fdbab024822crow7_col2\" class=\"data row7 col2\" >144847</td>\n",
       "                        <td id=\"T_9b90f6df_49dc_11eb_abae_fdbab024822crow7_col3\" class=\"data row7 col3\" >0.000011</td>\n",
       "            </tr>\n",
       "            <tr>\n",
       "                        <th id=\"T_9b90f6df_49dc_11eb_abae_fdbab024822clevel0_row8\" class=\"row_heading level0 row8\" >3</th>\n",
       "                        <td id=\"T_9b90f6df_49dc_11eb_abae_fdbab024822crow8_col0\" class=\"data row8 col0\" >Birmingham</td>\n",
       "                        <td id=\"T_9b90f6df_49dc_11eb_abae_fdbab024822crow8_col1\" class=\"data row8 col1\" >5</td>\n",
       "                        <td id=\"T_9b90f6df_49dc_11eb_abae_fdbab024822crow8_col2\" class=\"data row8 col2\" >1073045</td>\n",
       "                        <td id=\"T_9b90f6df_49dc_11eb_abae_fdbab024822crow8_col3\" class=\"data row8 col3\" >0.000011</td>\n",
       "            </tr>\n",
       "            <tr>\n",
       "                        <th id=\"T_9b90f6df_49dc_11eb_abae_fdbab024822clevel0_row9\" class=\"row_heading level0 row9\" >0</th>\n",
       "                        <td id=\"T_9b90f6df_49dc_11eb_abae_fdbab024822crow9_col0\" class=\"data row9 col0\" >Manchester </td>\n",
       "                        <td id=\"T_9b90f6df_49dc_11eb_abae_fdbab024822crow9_col1\" class=\"data row9 col1\" >7</td>\n",
       "                        <td id=\"T_9b90f6df_49dc_11eb_abae_fdbab024822crow9_col2\" class=\"data row9 col2\" >503127</td>\n",
       "                        <td id=\"T_9b90f6df_49dc_11eb_abae_fdbab024822crow9_col3\" class=\"data row9 col3\" >0.000007</td>\n",
       "            </tr>\n",
       "    </tbody></table>"
      ],
      "text/plain": [
       "<pandas.io.formats.style.Styler at 0x23bd62128e0>"
      ]
     },
     "execution_count": 30,
     "metadata": {},
     "output_type": "execute_result"
    }
   ],
   "source": [
    "x = WeaponCrime_Population.sort_values(by='CrimePerHead', ascending=False)\n",
    "x.style.format({}).bar(subset=[\"CrimePerHead\"], color='lightgreen')"
   ]
  },
  {
   "cell_type": "markdown",
   "metadata": {},
   "source": [
    "In the television documentary “Ross Kemp and the Armed Police\" the second claim is <b> There are more firearms incidents per head in Birmingham than anywhere else in the UK.</b><p>From the above result we can clearly see that <b>, Sheffield, Broxbourne  have the highest rate of firearms crime per head in the UK</b> <p> "
   ]
  },
  {
   "cell_type": "code",
   "execution_count": 31,
   "metadata": {},
   "outputs": [],
   "source": [
    "import matplotlib\n",
    "matplotlib.style.use('ggplot')\n",
    "plt.rcParams['figure.figsize']=(12,6)"
   ]
  },
  {
   "cell_type": "markdown",
   "metadata": {},
   "source": [
    "<h3>Data Visualization<h3>"
   ]
  },
  {
   "cell_type": "code",
   "execution_count": 32,
   "metadata": {},
   "outputs": [
    {
     "data": {
      "text/plain": [
       "<matplotlib.axes._subplots.AxesSubplot at 0x23bd6c30f70>"
      ]
     },
     "execution_count": 32,
     "metadata": {},
     "output_type": "execute_result"
    },
    {
     "data": {
      "image/png": "[encoded data removed]",
      "text/plain": [
       "<Figure size 864x432 with 1 Axes>"
      ]
     },
     "metadata": {},
     "output_type": "display_data"
    }
   ],
   "source": [
    "x.plot.bar(x='LSOAname', y='CrimePerHead')"
   ]
  },
  {
   "cell_type": "markdown",
   "metadata": {},
   "source": [
    "                         Graph2: Firearm incidents per head v/s Cities "
   ]
  },
  {
   "cell_type": "markdown",
   "metadata": {},
   "source": [
    "In the television documentary “Ross Kemp and the Armed Police\" the second claim is <b> There are more firearms incidents per head in Birmingham than anywhere else in the UK.</b><p>From the above bar chart we can clearly see that <b>Sheffield, Broxbourne </b> have the highest rate of firearms crime per head in the UK. <p> <b>We can conclude that the second claim is false according to the 2018 subset crime data set.</b><p>Sheffield recorded (0.000050) followed by Broxbourne(0.000043) has highest rate of firearm crimes. Birmingham only recorded (0.000011) lower rate of firearm crimes compared with Sheffield,Broxbourne etc..<p>"
   ]
  },
  {
   "cell_type": "markdown",
   "metadata": {},
   "source": [
    "In the below code code we are <b>GROUP BY WeaponCrimeCount in each cities </b> by using <b>SQL</b> queries and creating data frame from that results.\n",
    "<p>Using the function <b>sqlCtx.sql()</b> filtering the WeaponCrimeCount in each cities with help of SQL queries.<p>"
   ]
  },
  {
   "cell_type": "markdown",
   "metadata": {},
   "source": [
    "<h3>Reason behind use of visualization method</h3><p> If we have <b>ordinal data</b> that you would like to represent through a chart then a <b>bar chart</b> would be the best option. In our scenario, we have <b>ordinal data</b>, so I am using a bar chart to visualize the solution.This type of chart is one of the more familiar options as it is easy to interpret.These charts are useful for displaying data that is classified into <b>nominal or ordinal categories</b>."
   ]
  },
  {
   "cell_type": "markdown",
   "metadata": {},
   "source": [
    "<h3>Data Extraction and Filtering <h3>"
   ]
  },
  {
   "cell_type": "code",
   "execution_count": null,
   "metadata": {},
   "outputs": [],
   "source": [
    "results = sqlCtx.sql(\"SELECT LSOAname, COUNT(*) AS WeaponCrimeCount FROM CrimeData WHERE  LSOAname !='' AND  CrimeType ='Possession of weapons' GROUP BY LSOAname ORDER BY WeaponCrimeCount DESC\").collect()\n",
    "WeaponCrimeCountInEachCity = sqlCtx.createDataFrame(results)\n",
    "Top_WeaponCrimeCountInEachCity = WeaponCrimeCountInEachCity.toPandas()\n",
    "Top_WeaponCrimeCountInEachCity"
   ]
  },
  {
   "cell_type": "markdown",
   "metadata": {},
   "source": [
    "In the below code code we are <b>GROUP BY DrugsCrimeCount in each cities </b> by using <b>SQL</b> queries and creating data frame from that results.\n",
    "<p>Using the function <b>sqlCtx.sql()</b> filtering the DrugsCrimeCount in each cities with help of SQL queries.<p>"
   ]
  },
  {
   "cell_type": "code",
   "execution_count": 34,
   "metadata": {},
   "outputs": [
    {
     "data": {
      "text/html": [
       "<div>\n",
       "<style scoped>\n",
       "    .dataframe tbody tr th:only-of-type {\n",
       "        vertical-align: middle;\n",
       "    }\n",
       "\n",
       "    .dataframe tbody tr th {\n",
       "        vertical-align: top;\n",
       "    }\n",
       "\n",
       "    .dataframe thead th {\n",
       "        text-align: right;\n",
       "    }\n",
       "</style>\n",
       "<table border=\"1\" class=\"dataframe\">\n",
       "  <thead>\n",
       "    <tr style=\"text-align: right;\">\n",
       "      <th></th>\n",
       "      <th>LSOAname</th>\n",
       "      <th>DrugsCrimeCount</th>\n",
       "    </tr>\n",
       "  </thead>\n",
       "  <tbody>\n",
       "    <tr>\n",
       "      <th>0</th>\n",
       "      <td>Liverpool</td>\n",
       "      <td>27</td>\n",
       "    </tr>\n",
       "    <tr>\n",
       "      <th>1</th>\n",
       "      <td>Leeds</td>\n",
       "      <td>16</td>\n",
       "    </tr>\n",
       "    <tr>\n",
       "      <th>2</th>\n",
       "      <td>Croydon</td>\n",
       "      <td>14</td>\n",
       "    </tr>\n",
       "    <tr>\n",
       "      <th>3</th>\n",
       "      <td>Newcastle upon Tyne</td>\n",
       "      <td>13</td>\n",
       "    </tr>\n",
       "    <tr>\n",
       "      <th>4</th>\n",
       "      <td>Birmingham</td>\n",
       "      <td>12</td>\n",
       "    </tr>\n",
       "    <tr>\n",
       "      <th>...</th>\n",
       "      <td>...</td>\n",
       "      <td>...</td>\n",
       "    </tr>\n",
       "    <tr>\n",
       "      <th>238</th>\n",
       "      <td>Medway</td>\n",
       "      <td>1</td>\n",
       "    </tr>\n",
       "    <tr>\n",
       "      <th>239</th>\n",
       "      <td>Darlington</td>\n",
       "      <td>1</td>\n",
       "    </tr>\n",
       "    <tr>\n",
       "      <th>240</th>\n",
       "      <td>Eastleigh</td>\n",
       "      <td>1</td>\n",
       "    </tr>\n",
       "    <tr>\n",
       "      <th>241</th>\n",
       "      <td>Mid Devon</td>\n",
       "      <td>1</td>\n",
       "    </tr>\n",
       "    <tr>\n",
       "      <th>242</th>\n",
       "      <td>Basingstoke and Deane</td>\n",
       "      <td>1</td>\n",
       "    </tr>\n",
       "  </tbody>\n",
       "</table>\n",
       "<p>243 rows × 2 columns</p>\n",
       "</div>"
      ],
      "text/plain": [
       "                   LSOAname  DrugsCrimeCount\n",
       "0                Liverpool                27\n",
       "1                    Leeds                16\n",
       "2                  Croydon                14\n",
       "3      Newcastle upon Tyne                13\n",
       "4                Birmingham               12\n",
       "..                      ...              ...\n",
       "238                 Medway                 1\n",
       "239             Darlington                 1\n",
       "240              Eastleigh                 1\n",
       "241              Mid Devon                 1\n",
       "242  Basingstoke and Deane                 1\n",
       "\n",
       "[243 rows x 2 columns]"
      ]
     },
     "execution_count": 34,
     "metadata": {},
     "output_type": "execute_result"
    }
   ],
   "source": [
    "results = sqlCtx.sql(\"SELECT LSOAname, COUNT(*) AS DrugsCrimeCount FROM CrimeData WHERE  LSOAname !='' AND  CrimeType ='Drugs' GROUP BY LSOAname ORDER BY DrugsCrimeCount DESC\").collect()\n",
    "DrugsCrimeCountInEachCity = sqlCtx.createDataFrame(results)\n",
    "Top_DrugsCrimeCountInEachCity = DrugsCrimeCountInEachCity.toPandas()\n",
    "Top_DrugsCrimeCountInEachCity"
   ]
  },
  {
   "cell_type": "markdown",
   "metadata": {},
   "source": [
    "<p> We then merge the two pandas data frame by taking <b> LSOAname as the key</b>. \n",
    "This enables us to check the correlation between firearm crime and drugs.\n",
    "we are merging two  data frames <b>Top_WeaponCrimeCountInEachCity + Top_DrugsCrimeCountInEachCity.</b>\n",
    "<p>Merging action is performed by using <b>pd.merge()</b> method.<p>"
   ]
  },
  {
   "cell_type": "code",
   "execution_count": 35,
   "metadata": {
    "scrolled": true
   },
   "outputs": [
    {
     "data": {
      "text/html": [
       "<div>\n",
       "<style scoped>\n",
       "    .dataframe tbody tr th:only-of-type {\n",
       "        vertical-align: middle;\n",
       "    }\n",
       "\n",
       "    .dataframe tbody tr th {\n",
       "        vertical-align: top;\n",
       "    }\n",
       "\n",
       "    .dataframe thead th {\n",
       "        text-align: right;\n",
       "    }\n",
       "</style>\n",
       "<table border=\"1\" class=\"dataframe\">\n",
       "  <thead>\n",
       "    <tr style=\"text-align: right;\">\n",
       "      <th></th>\n",
       "      <th>LSOAname</th>\n",
       "      <th>WeaponCrimeCount</th>\n",
       "      <th>DrugsCrimeCount</th>\n",
       "    </tr>\n",
       "  </thead>\n",
       "  <tbody>\n",
       "    <tr>\n",
       "      <th>0</th>\n",
       "      <td>Manchester</td>\n",
       "      <td>7</td>\n",
       "      <td>6</td>\n",
       "    </tr>\n",
       "    <tr>\n",
       "      <th>1</th>\n",
       "      <td>Dacorum</td>\n",
       "      <td>6</td>\n",
       "      <td>5</td>\n",
       "    </tr>\n",
       "    <tr>\n",
       "      <th>2</th>\n",
       "      <td>Calderdale</td>\n",
       "      <td>6</td>\n",
       "      <td>1</td>\n",
       "    </tr>\n",
       "    <tr>\n",
       "      <th>3</th>\n",
       "      <td>Birmingham</td>\n",
       "      <td>5</td>\n",
       "      <td>12</td>\n",
       "    </tr>\n",
       "    <tr>\n",
       "      <th>4</th>\n",
       "      <td>Bolton</td>\n",
       "      <td>5</td>\n",
       "      <td>4</td>\n",
       "    </tr>\n",
       "    <tr>\n",
       "      <th>...</th>\n",
       "      <td>...</td>\n",
       "      <td>...</td>\n",
       "      <td>...</td>\n",
       "    </tr>\n",
       "    <tr>\n",
       "      <th>99</th>\n",
       "      <td>St Edmundsbury</td>\n",
       "      <td>1</td>\n",
       "      <td>1</td>\n",
       "    </tr>\n",
       "    <tr>\n",
       "      <th>100</th>\n",
       "      <td>York</td>\n",
       "      <td>1</td>\n",
       "      <td>1</td>\n",
       "    </tr>\n",
       "    <tr>\n",
       "      <th>101</th>\n",
       "      <td>Eastleigh</td>\n",
       "      <td>1</td>\n",
       "      <td>1</td>\n",
       "    </tr>\n",
       "    <tr>\n",
       "      <th>102</th>\n",
       "      <td>Knowsley</td>\n",
       "      <td>1</td>\n",
       "      <td>2</td>\n",
       "    </tr>\n",
       "    <tr>\n",
       "      <th>103</th>\n",
       "      <td>Middlesbrough</td>\n",
       "      <td>1</td>\n",
       "      <td>3</td>\n",
       "    </tr>\n",
       "  </tbody>\n",
       "</table>\n",
       "<p>104 rows × 3 columns</p>\n",
       "</div>"
      ],
      "text/plain": [
       "            LSOAname  WeaponCrimeCount  DrugsCrimeCount\n",
       "0        Manchester                  7                6\n",
       "1           Dacorum                  6                5\n",
       "2        Calderdale                  6                1\n",
       "3         Birmingham                 5               12\n",
       "4            Bolton                  5                4\n",
       "..               ...               ...              ...\n",
       "99   St Edmundsbury                  1                1\n",
       "100            York                  1                1\n",
       "101       Eastleigh                  1                1\n",
       "102        Knowsley                  1                2\n",
       "103   Middlesbrough                  1                3\n",
       "\n",
       "[104 rows x 3 columns]"
      ]
     },
     "execution_count": 35,
     "metadata": {},
     "output_type": "execute_result"
    }
   ],
   "source": [
    "WeaponCrime_Drugs = pd.merge(Top_WeaponCrimeCountInEachCity, Top_DrugsCrimeCountInEachCity, on = 'LSOAname')\n",
    "WeaponCrime_Drugs"
   ]
  },
  {
   "cell_type": "code",
   "execution_count": 36,
   "metadata": {},
   "outputs": [],
   "source": [
    "import numpy as np\n",
    "from pyspark.mllib.stat import Statistics\n",
    "import seaborn as sns"
   ]
  },
  {
   "cell_type": "markdown",
   "metadata": {},
   "source": [
    "<p>In the television documentary “Ross Kemp and the Armed Police\" the third claim is <b>\"Crimes involving firearms are closely associated with drugs offenses\" </b> To analyse the correlation between Drugs and Firearm crimes, we are calculating the correlation coefficient. The correlation coefficient is a statistical measure of the strength of the relationship between the relative movements of two variables. The values range between -1.0 and 1.0.<br>\n",
    "<b>1.0  = strong +ve correlation between two variables(directly proportional each other)<br>\n",
    "<b>-1.0 = strong -ve correlation between two variables(in-directly proportional each other)<br>\n",
    "<b> 0.0 = zero correlation between two variables.</b><p>"
   ]
  },
  {
   "cell_type": "code",
   "execution_count": 37,
   "metadata": {},
   "outputs": [
    {
     "data": {
      "text/html": [
       "<div>\n",
       "<style scoped>\n",
       "    .dataframe tbody tr th:only-of-type {\n",
       "        vertical-align: middle;\n",
       "    }\n",
       "\n",
       "    .dataframe tbody tr th {\n",
       "        vertical-align: top;\n",
       "    }\n",
       "\n",
       "    .dataframe thead th {\n",
       "        text-align: right;\n",
       "    }\n",
       "</style>\n",
       "<table border=\"1\" class=\"dataframe\">\n",
       "  <thead>\n",
       "    <tr style=\"text-align: right;\">\n",
       "      <th></th>\n",
       "      <th>WeaponCrimeCount</th>\n",
       "      <th>DrugsCrimeCount</th>\n",
       "    </tr>\n",
       "  </thead>\n",
       "  <tbody>\n",
       "    <tr>\n",
       "      <th>WeaponCrimeCount</th>\n",
       "      <td>1.000000</td>\n",
       "      <td>0.325664</td>\n",
       "    </tr>\n",
       "    <tr>\n",
       "      <th>DrugsCrimeCount</th>\n",
       "      <td>0.325664</td>\n",
       "      <td>1.000000</td>\n",
       "    </tr>\n",
       "  </tbody>\n",
       "</table>\n",
       "</div>"
      ],
      "text/plain": [
       "                  WeaponCrimeCount  DrugsCrimeCount\n",
       "WeaponCrimeCount          1.000000         0.325664\n",
       "DrugsCrimeCount           0.325664         1.000000"
      ]
     },
     "execution_count": 37,
     "metadata": {},
     "output_type": "execute_result"
    }
   ],
   "source": [
    "WeaponCrime_Drugs.corr()"
   ]
  },
  {
   "cell_type": "markdown",
   "metadata": {},
   "source": [
    "From the above results, we can see that the correlation between weapon crime and drugs is <b> 0.325664  A weak uphill (positive) linear relationship. </b> That means a moderate amount of firearm crimes are directly involved with drug usage."
   ]
  },
  {
   "cell_type": "markdown",
   "metadata": {},
   "source": [
    "<p><b>Correlation coefficients</b> are indicators of the strength of the relationship between two different variables. A correlation coefficient that is greater than zero indicates a positive relationship between two variables. A value that is less than zero signifies a negative relationship between two variables.The value of the correlation coefficient varies between +1 and -1<p>\n",
    "<p>Seaborn is a Python data visualization library based on matplotlib.<p>\n",
    "<p> In the below code, plotting the correlation between <b>Drugs and Weapon crimes</b> by using the <b>sns.heatmap()</b> function."
   ]
  },
  {
   "cell_type": "markdown",
   "metadata": {},
   "source": [
    "<h3>Data Visualization<h3>"
   ]
  },
  {
   "cell_type": "code",
   "execution_count": 38,
   "metadata": {},
   "outputs": [
    {
     "data": {
      "text/plain": [
       "<matplotlib.axes._subplots.AxesSubplot at 0x23bd74ad5b0>"
      ]
     },
     "execution_count": 38,
     "metadata": {},
     "output_type": "execute_result"
    },
    {
     "data": {
      "image/png": "[encoded data removed]",
      "text/plain": [
       "<Figure size 864x432 with 2 Axes>"
      ]
     },
     "metadata": {},
     "output_type": "display_data"
    }
   ],
   "source": [
    "sns.heatmap(WeaponCrime_Drugs.corr(), cmap=\"Greens\")"
   ]
  },
  {
   "cell_type": "markdown",
   "metadata": {},
   "source": [
    "                     Graph3: Firearm crimes v/s Drugs Usage"
   ]
  },
  {
   "cell_type": "markdown",
   "metadata": {},
   "source": [
    "From the above results, we can see that the correlation between weapon crime and drugs is <b> 0.325664  A weak uphill (positive) linear relationship.<p> </b> That means <b>moderate amont of firearm crimes are direclty involved with the drugs usage.</b><p>"
   ]
  },
  {
   "cell_type": "markdown",
   "metadata": {},
   "source": [
    "<h3>Reason behind use of visualization method</h3>\n",
    "<p>Different types of graphs are<b> available to plot the relationship between two variables.</b> Example <b>Scatter chart, Heatmap</b>, etc..\n",
    "In this scenario, I am using Heatmaps. Heatmaps are used to show relationships between two variables, one plotted on each axis. \n",
    "By observing how cell colors change across each axis, you can observe if there are any patterns in value for one or both variables.<p>"
   ]
  },
  {
   "cell_type": "markdown",
   "metadata": {},
   "source": [
    "<h3>Reason behind use of statistical method</h3><p>According to the above scenario, We have to find the relationship between crimes involving firearms v/s Drugs usage.So I am using the correlation coefficient to find the relationship between these two variables.Correlation coefficients are indicators of the strength of the relationship between two different variables. A correlation coefficient that is greater than zero indicates a positive relationship between two variables. A value that is less than zero signifies a negative relationship between two variables.<p>"
   ]
  },
  {
   "cell_type": "markdown",
   "metadata": {},
   "source": [
    "<h1>EVALUATION AND CONCLUSION</h1>"
   ]
  },
  {
   "cell_type": "markdown",
   "metadata": {},
   "source": [
    "<p> In the television documentary “Ross Kemp and the Armed Police” broadcast on 6th September 2018 by ITV, \n",
    "multiple claims were made regarding violent crime in the UK. </p>\n",
    "\n",
    "These claims were:\n",
    "1.\tViolent Crime is increasing\n",
    "2.\tThere are more firearms incidents per head in Birmingham than anywhere else in the UK\n",
    "3.\tCrimes involving firearms are closely associated with drugs offenses\n",
    "\n",
    "After the investigation, I am come up with the following conclusions.\n",
    "\n",
    "<p> <p>\n",
    "<img src=\"files/image1.png\" width='300' height='300' style=\"float:left\">\n",
    "1. The first claim(<b>The violent crime is increasing</b>) is correct according to the dataset(<b>2018 subset crime</b>). From our analysis we can observe that violent crimes are increasing gradually in the UK. In the month of January'2018, the violent crime counts are 2066. In the month of July'2018, 248 violent crimes are increased.\n",
    "<p><span style=\"color:red\">Please refer Graph1: Month v/s VoilentCrimes</span><p>\n",
    "    \n",
    "\n",
    "2. The second claim(<b>There are more firearms incidents per head in Birmingham than anywhere else in the UK</b>) is incorrect, according to the dataset(<b>2018 subset crime</b>). From the above analysis we can clearly see that <b>Sheffield, Broxbourne </b> have the highest rate of firearms crime per head in UK.<b>We can conclude that the second claim is false according to the 2018 subset crime data set.</b><p><b>Sheffield recorded (0.000050) followed by Broxbourne(0.000043) has highest rate of firearm crimes</b>. Birmingham only recorded (0.000011) lower rate of firearm crimes compared with Sheffield, Broxbourne, etc..<p><p>From the above analysis we can conclude that <b>Sheffield, Broxbourne  have the highest rate of firearms crime per head in the UK</b><p>\n",
    "<p><span style=\"color:red\"> Please refer  Graph2: Firearm incidents per head v/s Cities</span><p>\n",
    "<img src=\"files/image2.png\" width='400' height='300'>\n",
    "\n",
    "3. The third claim(<b>Crimes involving firearms are closely associated with drugs offenses</b>) is correct according to the dataset(<b>2018 subset crime</b>). From the above analysis, we can see that the correlation between weapon crime and drugs is <b> 0.325664  A weak uphill (positive) linear relationship. </b> That means <b>moderate amount of firearm crimes are directly involved with drug usage.</b>\n",
    "<p><span style=\"color:red\"> Please refer Graph3: Firearm crimes v/s Drugs Usage</span><p>\n",
    "<img src=\"files/image3.png\" width='400' height='300'>\n",
    "\n",
    "<p>After the detailed analysis we can conclude that first and third claims are true, Second claim is false<p>\n",
    "    \n",
    "    \n"
   ]
  },
  {
   "cell_type": "markdown",
   "metadata": {},
   "source": [
    "<b> References </b>\n",
    "\n",
    "1. English indices of deprivation 2018: https://www.gov.uk/government/statistics/english-indices-of-deprivation-2019\n",
    "2. Data.police.uk 2018 https://data.police.uk/\n",
    "3. Postcodes: https://www.freemaptools.com/download-uk-postcode-lat-lng.htm\n",
    "4. Pyspark Documentation: https://spark.apache.org/docs/latest/api/python/index.html\n",
    "5. Python Documentation: https://docs.python.org/3.9/\n",
    "6. SQL Documentation: https://dev.mysql.com/doc/\n",
    "7. Pandas Documentation: https://pandas.pydata.org/docs/\n",
    "8. Matplotlib Documentation: https://matplotlib.org/3.3.3/contents.html\n",
    "9. Stackoverflow: https://stackoverflow.com/\n",
    "10. Jupyter Notebook Markdown: https://jupyter-notebook.readthedocs.io/en/stable/\n"
   ]
  },
  {
   "cell_type": "code",
   "execution_count": null,
   "metadata": {},
   "outputs": [],
   "source": []
  }
 ],
 "metadata": {
  "kernelspec": {
   "display_name": "Python 3",
   "language": "python",
   "name": "python3"
  },
  "language_info": {
   "codemirror_mode": {
    "name": "ipython",
    "version": 3
   },
   "file_extension": ".py",
   "mimetype": "text/x-python",
   "name": "python",
   "nbconvert_exporter": "python",
   "pygments_lexer": "ipython3",
   "version": "3.8.3"
  }
 },
 "nbformat": 4,
 "nbformat_minor": 4
}
